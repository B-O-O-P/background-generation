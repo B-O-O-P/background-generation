{
 "cells": [
  {
   "cell_type": "markdown",
   "source": [
    "# Named Entity Recognition"
   ],
   "metadata": {
    "collapsed": false,
    "pycharm": {
     "name": "#%% md\n"
    }
   }
  },
  {
   "cell_type": "markdown",
   "source": [
    "## Libraries "
   ],
   "metadata": {
    "collapsed": false,
    "pycharm": {
     "name": "#%% md\n"
    }
   }
  },
  {
   "cell_type": "code",
   "execution_count": 158,
   "metadata": {
    "collapsed": true,
    "pycharm": {
     "is_executing": false
    }
   },
   "outputs": [],
   "source": [
    "from collections import Counter\n",
    "import en_core_web_lg as english_large\n",
    "import en_core_web_md as english_medium\n",
    "import en_core_web_sm as english_small\n",
    "from spacy import displacy\n",
    "import warnings\n",
    "warnings.filterwarnings(\"ignore\")\n"
   ]
  },
  {
   "cell_type": "markdown",
   "source": [
    "### Example texts"
   ],
   "metadata": {
    "collapsed": false,
    "pycharm": {
     "name": "#%% md\n"
    }
   }
  },
  {
   "cell_type": "code",
   "execution_count": 159,
   "outputs": [],
   "source": [
    "TEXTS = [\n",
    "    \"New Zealand's South Island brims with majestic landscapes at every turn, from dramatic mountains to fjords to glaciers. Here, you can explore Fiordland National Park, a UNESCO World Heritage Area, or gaze at the starry skies at Mount John Observatory. You can also indulge your inner daredevil in Queenstown, explore two of the most accessible glaciers in the world on the country's west coast or sample delicious food and wine in the Marlborough region.\",\n",
    "    \"Every day, the magnetic City of Light draws visitors from around the globe who come to see iconic attractions like the Eiffel Tower, the Louvre and the Arc de Triomphe. But what travelers really fall in love with are the city's quaint cafes, vibrant markets, trendy shopping districts and unmistakable je ne sais quoi charm. \",\n",
    "    \"London is a world unto itself. The eclectic neighborhoods, which house a blend of historical landmarks and modern-day attractions, can keep you occupied for days. If it's your first time in London, save time for a visit to the Tower of London, Tate Modern, Buckingham Palace or the British Museum before sitting down to a classic afternoon tea. The best time to travel to London is during the warmer months, but be warned that this is also the busiest and most expensive time of year.\",\n",
    "    \"What this small island may lack in size it makes up for in sheer tropical beauty. Here, you'll find picturesque beaches, lush jungles and luxurious resorts. The island's dormant volcano, Mount Otemanu, makes for a great photo-op or challenging hike, and the friendly Bora Bora locals can help you catch a glimpse of the island's best sights during an off-road excursion. To relax, head to Matira Beach for crystal-clear water and soft sand. Although a trip to Bora Bora is very expensive, most travelers say it's worth every penny.\",\n",
    "    \"Snow-capped peaks and azure lakes are just two reasons why Glacier National Park is one of the most-visited parks in the United States. There are more than 700 miles of hiking trails in this Montana park, plus 13 designated areas for camping. In winter, travelers can enjoy snowshoeing and skiing, while  summer is when vacationers can go swimming and whitewater rafting, among other popular activities. For those who'd rather admire their surroundings from their car, a scenic drive along Going-to-the-Sun Road can't be missed.\"\n",
    "]"
   ],
   "metadata": {
    "collapsed": false,
    "pycharm": {
     "name": "#%%\n",
     "is_executing": false
    }
   }
  },
  {
   "cell_type": "markdown",
   "source": [
    "### Getting Background Named Entities from next"
   ],
   "metadata": {
    "collapsed": false,
    "pycharm": {
     "name": "#%% md\n"
    }
   }
  },
  {
   "cell_type": "code",
   "execution_count": 160,
   "outputs": [],
   "source": [
    "def get_ner(nlp, text):\n",
    "    doc = nlp(text)\n",
    "    filtred_doc = filter(is_background_label, doc.ents)\n",
    "    print(\" Background entities:\\n\", [(X.text, X.label_) for X in filtred_doc])\n",
    "    print(\" Entities count:\\n\", Counter([X.label_ for X in doc.ents]))\n",
    "    print(\"\\n\")"
   ],
   "metadata": {
    "collapsed": false,
    "pycharm": {
     "name": "#%%\n",
     "is_executing": false
    }
   }
  },
  {
   "cell_type": "markdown",
   "source": [
    "### Background labels description"
   ],
   "metadata": {
    "collapsed": false
   }
  },
  {
   "cell_type": "code",
   "execution_count": 161,
   "outputs": [],
   "source": [
    "background_labels = ['GPE', 'LOC', 'FAC', 'EVENT', 'DATE']\n",
    "\n",
    "def is_background_label(X):\n",
    "    return 1 if background_labels.count(X.label_) > 0 else 0"
   ],
   "metadata": {
    "collapsed": false,
    "pycharm": {
     "name": "#%% \n",
     "is_executing": false
    }
   }
  },
  {
   "cell_type": "markdown",
   "source": [
    "## Working with models"
   ],
   "metadata": {
    "collapsed": false
   }
  },
  {
   "cell_type": "markdown",
   "source": [
    "### Differences in parsing of different models"
   ],
   "metadata": {
    "collapsed": false
   }
  },
  {
   "cell_type": "code",
   "execution_count": 162,
   "outputs": [
    {
     "name": "stdout",
     "text": [
      "Parsing text by nlp:  core_web_sm\n",
      " Background entities:\n",
      " [(\"New Zealand's\", 'GPE'), ('South Island', 'LOC'), ('Mount John Observatory', 'FAC'), ('Queenstown', 'GPE'), ('west coast', 'LOC'), ('Marlborough', 'GPE')]\n",
      " Entities count:\n",
      " Counter({'GPE': 3, 'LOC': 2, 'ORG': 2, 'FAC': 1, 'CARDINAL': 1})\n",
      "\n",
      "\n",
      " Background entities:\n",
      " [('Every day', 'DATE'), ('the Eiffel Tower', 'FAC'), ('the Arc de Triomphe', 'FAC'), ('sais', 'DATE')]\n",
      " Entities count:\n",
      " Counter({'DATE': 2, 'FAC': 2})\n",
      "\n",
      "\n",
      " Background entities:\n",
      " [('London', 'GPE'), ('modern-day', 'DATE'), ('days', 'DATE'), ('London', 'GPE'), ('the Tower of London', 'FAC'), ('Buckingham Palace', 'FAC'), ('the British Museum', 'FAC'), ('London', 'GPE'), ('the warmer months', 'DATE')]\n",
      " Entities count:\n",
      " Counter({'GPE': 3, 'DATE': 3, 'FAC': 3, 'ORDINAL': 1, 'PERSON': 1, 'TIME': 1})\n",
      "\n",
      "\n",
      " Background entities:\n",
      " [('Matira Beach', 'GPE')]\n",
      " Entities count:\n",
      " Counter({'PERSON': 4, 'GPE': 1})\n",
      "\n",
      "\n",
      " Background entities:\n",
      " [('Glacier National Park', 'FAC'), ('the United States', 'GPE'), ('Montana', 'GPE'), ('winter', 'DATE'), ('summer', 'DATE')]\n",
      " Entities count:\n",
      " Counter({'CARDINAL': 3, 'GPE': 2, 'DATE': 2, 'FAC': 1, 'QUANTITY': 1})\n",
      "\n",
      "\n",
      "=======================\n",
      "Parsing text by nlp:  core_web_md\n",
      " Background entities:\n",
      " [(\"New Zealand's\", 'GPE'), ('South Island', 'LOC'), ('Fiordland National Park', 'FAC'), ('Mount John Observatory', 'FAC'), ('Queenstown', 'LOC'), ('west coast', 'LOC'), ('Marlborough', 'LOC')]\n",
      " Entities count:\n",
      " Counter({'LOC': 4, 'FAC': 2, 'GPE': 1, 'ORG': 1, 'CARDINAL': 1})\n",
      "\n",
      "\n",
      " Background entities:\n",
      " [('Every day', 'DATE'), ('the Eiffel Tower', 'FAC'), ('the Arc de Triomphe', 'FAC')]\n",
      " Entities count:\n",
      " Counter({'FAC': 2, 'PERSON': 2, 'DATE': 1})\n",
      "\n",
      "\n",
      " Background entities:\n",
      " [('London', 'GPE'), ('modern-day', 'DATE'), ('days', 'DATE'), ('London', 'GPE'), ('the Tower of London', 'FAC'), ('Buckingham Palace', 'FAC'), ('the British Museum', 'FAC'), ('London', 'GPE'), ('the warmer months', 'DATE')]\n",
      " Entities count:\n",
      " Counter({'GPE': 3, 'DATE': 3, 'FAC': 3, 'ORDINAL': 1, 'PERSON': 1, 'TIME': 1})\n",
      "\n",
      "\n",
      " Background entities:\n",
      " [('Mount Otemanu', 'GPE'), ('Matira Beach', 'GPE')]\n",
      " Entities count:\n",
      " Counter({'GPE': 2, 'ORG': 2})\n",
      "\n",
      "\n",
      " Background entities:\n",
      " [('Glacier National Park', 'LOC'), ('the United States', 'GPE'), ('Montana', 'GPE'), ('winter', 'DATE'), ('summer', 'DATE'), ('Sun Road', 'FAC')]\n",
      " Entities count:\n",
      " Counter({'CARDINAL': 2, 'GPE': 2, 'DATE': 2, 'LOC': 1, 'QUANTITY': 1, 'FAC': 1})\n",
      "\n",
      "\n",
      "=======================\n",
      "Parsing text by nlp:  core_web_lg\n",
      " Background entities:\n",
      " [(\"New Zealand's\", 'GPE'), ('South Island', 'LOC'), ('Fiordland National Park', 'FAC'), ('Mount John Observatory', 'FAC'), ('Queenstown', 'GPE'), ('west coast', 'LOC'), ('Marlborough', 'GPE')]\n",
      " Entities count:\n",
      " Counter({'GPE': 3, 'LOC': 2, 'FAC': 2, 'ORG': 1, 'CARDINAL': 1})\n",
      "\n",
      "\n",
      " Background entities:\n",
      " [('Every day', 'DATE'), ('the Eiffel Tower', 'FAC'), ('Louvre', 'FAC'), ('the Arc de Triomphe', 'FAC')]\n",
      " Entities count:\n",
      " Counter({'FAC': 3, 'DATE': 1, 'PERSON': 1})\n",
      "\n",
      "\n",
      " Background entities:\n",
      " [('London', 'GPE'), ('modern-day', 'DATE'), ('days', 'DATE'), ('London', 'GPE'), ('the Tower of London', 'FAC'), ('Buckingham Palace', 'FAC'), ('the British Museum', 'FAC'), ('London', 'GPE'), ('the warmer months', 'DATE')]\n",
      " Entities count:\n",
      " Counter({'GPE': 3, 'DATE': 3, 'FAC': 3, 'ORDINAL': 1, 'ORG': 1, 'TIME': 1})\n",
      "\n",
      "\n",
      " Background entities:\n",
      " [('Bora Bora', 'GPE'), ('Matira Beach', 'GPE'), ('Bora Bora', 'GPE')]\n",
      " Entities count:\n",
      " Counter({'GPE': 3, 'PERSON': 1})\n",
      "\n",
      "\n",
      " Background entities:\n",
      " [('Glacier National Park', 'FAC'), ('the United States', 'GPE'), ('Montana', 'GPE'), ('winter', 'DATE'), ('summer', 'DATE')]\n",
      " Entities count:\n",
      " Counter({'CARDINAL': 2, 'GPE': 2, 'DATE': 2, 'FAC': 1, 'QUANTITY': 1})\n",
      "\n",
      "\n",
      "=======================\n"
     ],
     "output_type": "stream"
    }
   ],
   "source": [
    "nlps = [english_small.load(), english_medium.load(), english_large.load()]\n",
    "\n",
    "for nlp in nlps:\n",
    "    print('Parsing text by nlp: ', nlp._meta[\"name\"])\n",
    "    for text in TEXTS:\n",
    "        get_ner(nlp, text)\n",
    "    print('=======================') "
   ],
   "metadata": {
    "collapsed": false,
    "pycharm": {
     "name": "#%%\n",
     "is_executing": false
    }
   }
  },
  {
   "cell_type": "markdown",
   "source": [
    "### Comparing named and unnamed entities\n",
    "    "
   ],
   "metadata": {
    "collapsed": false
   }
  },
  {
   "cell_type": "code",
   "execution_count": 163,
   "outputs": [],
   "source": [
    "named_sentences = [\n",
    "    \"Go on vacation with your family on the Black Sea.\",\n",
    "    \"The Swiss Alps are one of the most popular resorts in the world.\",\n",
    "    \"How beautiful is the sunset on Miami Beach.\"\n",
    "]\n",
    "\n",
    "unnamed_sentences = [\n",
    "    \"Go on vacation with your family to the sea.\",\n",
    "    \"The mountains in Switzerland are one of the most popular resorts in the world.\",\n",
    "    \"How beautiful is the sunset on the beach.\"\n",
    "]\n",
    "\n",
    "sentences = list(zip(named_sentences, unnamed_sentences))"
   ],
   "metadata": {
    "collapsed": false,
    "pycharm": {
     "name": "#%%\n",
     "is_executing": false
    }
   }
  },
  {
   "cell_type": "code",
   "execution_count": 164,
   "outputs": [],
   "source": [
    "def compare_entities(nlp, text_1, text_2):\n",
    "    doc_1 = nlp(text_1)\n",
    "    doc_2 = nlp(text_2)\n",
    "    filtred_doc_1 = filter(is_background_label, doc_1.ents)\n",
    "    filtred_doc_2 = filter(is_background_label, doc_2.ents)\n",
    "    print(\"Background entities for first text:\\n\", [(X.text, X.label_) for X in filtred_doc_1])\n",
    "    print()\n",
    "    print(\"Background entities for second text:\\n\", [(X.text, X.label_) for X in filtred_doc_2])\n",
    "    \n",
    "def show_entities(nlp, text):\n",
    "    doc = nlp(text)\n",
    "    print(\"Showing named entities for text:\\n \", text)\n",
    "    displacy.render(doc, jupyter=True, style='ent')\n"
   ],
   "metadata": {
    "collapsed": false,
    "pycharm": {
     "name": "#%%\n",
     "is_executing": false
    }
   }
  },
  {
   "cell_type": "code",
   "execution_count": 165,
   "outputs": [
    {
     "name": "stdout",
     "text": [
      "Background entities for first text:\n",
      " [('the Black Sea', 'LOC')]\n",
      "\n",
      "Background entities for second text:\n",
      " []\n",
      "=======================\n",
      "Background entities for first text:\n",
      " []\n",
      "\n",
      "Background entities for second text:\n",
      " [('Switzerland', 'GPE')]\n",
      "=======================\n",
      "Background entities for first text:\n",
      " [('Hogwarts Beach', 'GPE')]\n",
      "\n",
      "Background entities for second text:\n",
      " []\n",
      "=======================\n"
     ],
     "output_type": "stream"
    }
   ],
   "source": [
    "nlp = nlps[0]\n",
    "\n",
    "for sentence in sentences:\n",
    "    compare_entities(nlp, sentence[0], sentence[1])\n",
    "    print('=======================')"
   ],
   "metadata": {
    "collapsed": false,
    "pycharm": {
     "name": "#%%\n",
     "is_executing": false
    }
   }
  },
  {
   "cell_type": "code",
   "execution_count": 166,
   "outputs": [
    {
     "name": "stdout",
     "text": [
      "Showing named entities for text:\n",
      "  Go on vacation with your family on the Black Sea.\n"
     ],
     "output_type": "stream"
    },
    {
     "data": {
      "text/plain": "<IPython.core.display.HTML object>",
      "text/html": "<span class=\"tex2jax_ignore\"><div class=\"entities\" style=\"line-height: 2.5; direction: ltr\">Go on vacation with your family on \n<mark class=\"entity\" style=\"background: #ff9561; padding: 0.45em 0.6em; margin: 0 0.25em; line-height: 1; border-radius: 0.35em;\">\n    the Black Sea\n    <span style=\"font-size: 0.8em; font-weight: bold; line-height: 1; border-radius: 0.35em; text-transform: uppercase; vertical-align: middle; margin-left: 0.5rem\">LOC</span>\n</mark>\n.</div></span>"
     },
     "metadata": {},
     "output_type": "display_data"
    }
   ],
   "source": [
    "sentence = sentences[0][0]\n",
    "show_entities(nlp, sentence)"
   ],
   "metadata": {
    "collapsed": false,
    "pycharm": {
     "name": "#%%\n",
     "is_executing": false
    }
   }
  },
  {
   "cell_type": "code",
   "execution_count": 167,
   "outputs": [
    {
     "name": "stdout",
     "text": [
      "Showing named entities for text:\n",
      "  Go on vacation with your family to the sea.\n"
     ],
     "output_type": "stream"
    },
    {
     "data": {
      "text/plain": "<IPython.core.display.HTML object>",
      "text/html": "<span class=\"tex2jax_ignore\"><div class=\"entities\" style=\"line-height: 2.5; direction: ltr\">Go on vacation with your family to the sea.</div></span>"
     },
     "metadata": {},
     "output_type": "display_data"
    }
   ],
   "source": [
    "sentence = sentences[0][1]\n",
    "show_entities(nlp, sentence)"
   ],
   "metadata": {
    "collapsed": false,
    "pycharm": {
     "name": "#%%\n",
     "is_executing": false
    }
   }
  },
  {
   "cell_type": "code",
   "execution_count": 168,
   "outputs": [
    {
     "name": "stdout",
     "text": [
      "Showing named entities for text:\n",
      "  The Swiss Alps are one of the most popular resorts in the world.\n"
     ],
     "output_type": "stream"
    },
    {
     "data": {
      "text/plain": "<IPython.core.display.HTML object>",
      "text/html": "<span class=\"tex2jax_ignore\"><div class=\"entities\" style=\"line-height: 2.5; direction: ltr\">The \n<mark class=\"entity\" style=\"background: #c887fb; padding: 0.45em 0.6em; margin: 0 0.25em; line-height: 1; border-radius: 0.35em;\">\n    Swiss\n    <span style=\"font-size: 0.8em; font-weight: bold; line-height: 1; border-radius: 0.35em; text-transform: uppercase; vertical-align: middle; margin-left: 0.5rem\">NORP</span>\n</mark>\n Alps are one of the most popular resorts in the world.</div></span>"
     },
     "metadata": {},
     "output_type": "display_data"
    }
   ],
   "source": [
    "sentence = sentences[1][0]\n",
    "show_entities(nlp, sentence)"
   ],
   "metadata": {
    "collapsed": false,
    "pycharm": {
     "name": "#%%\n",
     "is_executing": false
    }
   }
  },
  {
   "cell_type": "code",
   "execution_count": 169,
   "outputs": [
    {
     "name": "stdout",
     "text": [
      "Showing named entities for text:\n",
      "  The mountains in Switzerland are one of the most popular resorts in the world.\n"
     ],
     "output_type": "stream"
    },
    {
     "data": {
      "text/plain": "<IPython.core.display.HTML object>",
      "text/html": "<span class=\"tex2jax_ignore\"><div class=\"entities\" style=\"line-height: 2.5; direction: ltr\">The mountains in \n<mark class=\"entity\" style=\"background: #feca74; padding: 0.45em 0.6em; margin: 0 0.25em; line-height: 1; border-radius: 0.35em;\">\n    Switzerland\n    <span style=\"font-size: 0.8em; font-weight: bold; line-height: 1; border-radius: 0.35em; text-transform: uppercase; vertical-align: middle; margin-left: 0.5rem\">GPE</span>\n</mark>\n are one of the most popular resorts in the world.</div></span>"
     },
     "metadata": {},
     "output_type": "display_data"
    }
   ],
   "source": [
    "sentence = sentences[1][1]\n",
    "show_entities(nlp, sentence)"
   ],
   "metadata": {
    "collapsed": false,
    "pycharm": {
     "name": "#%%\n",
     "is_executing": false
    }
   }
  },
  {
   "cell_type": "code",
   "execution_count": 170,
   "outputs": [
    {
     "name": "stdout",
     "text": [
      "Showing named entities for text:\n",
      "  How beautiful is the sunset on Hogwarts Beach.\n"
     ],
     "output_type": "stream"
    },
    {
     "data": {
      "text/plain": "<IPython.core.display.HTML object>",
      "text/html": "<span class=\"tex2jax_ignore\"><div class=\"entities\" style=\"line-height: 2.5; direction: ltr\">How beautiful is the sunset on \n<mark class=\"entity\" style=\"background: #feca74; padding: 0.45em 0.6em; margin: 0 0.25em; line-height: 1; border-radius: 0.35em;\">\n    Hogwarts Beach\n    <span style=\"font-size: 0.8em; font-weight: bold; line-height: 1; border-radius: 0.35em; text-transform: uppercase; vertical-align: middle; margin-left: 0.5rem\">GPE</span>\n</mark>\n.</div></span>"
     },
     "metadata": {},
     "output_type": "display_data"
    }
   ],
   "source": [
    "sentence = sentences[2][0]\n",
    "show_entities(nlp, sentence)"
   ],
   "metadata": {
    "collapsed": false,
    "pycharm": {
     "name": "#%%\n",
     "is_executing": false
    }
   }
  },
  {
   "cell_type": "code",
   "execution_count": 171,
   "outputs": [
    {
     "name": "stdout",
     "text": [
      "Showing named entities for text:\n",
      "  How beautiful is the sunset on the beach.\n"
     ],
     "output_type": "stream"
    },
    {
     "data": {
      "text/plain": "<IPython.core.display.HTML object>",
      "text/html": "<span class=\"tex2jax_ignore\"><div class=\"entities\" style=\"line-height: 2.5; direction: ltr\">How beautiful is the sunset on the beach.</div></span>"
     },
     "metadata": {},
     "output_type": "display_data"
    }
   ],
   "source": [
    "sentence = sentences[2][1]\n",
    "show_entities(nlp, sentence)"
   ],
   "metadata": {
    "collapsed": false,
    "pycharm": {
     "name": "#%%\n",
     "is_executing": false
    }
   }
  }
 ],
 "metadata": {
  "kernelspec": {
   "display_name": "Python 3",
   "language": "python",
   "name": "python3"
  },
  "language_info": {
   "codemirror_mode": {
    "name": "ipython",
    "version": 2
   },
   "file_extension": ".py",
   "mimetype": "text/x-python",
   "name": "python",
   "nbconvert_exporter": "python",
   "pygments_lexer": "ipython2",
   "version": "2.7.6"
  },
  "pycharm": {
   "stem_cell": {
    "cell_type": "raw",
    "source": [],
    "metadata": {
     "collapsed": false
    }
   }
  }
 },
 "nbformat": 4,
 "nbformat_minor": 0
}