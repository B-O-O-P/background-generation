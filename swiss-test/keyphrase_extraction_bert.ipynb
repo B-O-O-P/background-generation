{
 "cells": [
  {
   "cell_type": "markdown",
   "source": [
    "# Background key phrase matching\n",
    "\n",
    "This is an example of matching background key phrase to text key phrases\n",
    "by using [EmbedRank implementation](https://github.com/swisscom/ai-research-keyphrase-extraction).\n",
    "\n",
    "EmbedRank embeds both the document and background phrases into the same embedding space.\n",
    "Current background phrases:\n",
    "\n",
    "**\"hill\", \"beach\", \"mountain\", \"valley\", \"city\"**\n",
    "\n",
    "Determining a suitable tag is done by using [Maximal Margin Relevance](https://medium.com/tech-that-works/maximal-marginal-relevance-to-rerank-results-in-unsupervised-keyphrase-extraction-22d95015c7c5#:~:text=Maximal%20Marginal%20Relevance%20a.k.a.%20MMR,already%20ranked%20documents%2Fphrases%20etc.)\n",
    "using the cosine similarity between the background tags\n",
    "and the document in order to model the informativness and the cosine similarity between\n",
    "the tags is used to model the diversity.\n",
    "\n",
    "[Example text](text.txt)"
   ],
   "metadata": {
    "collapsed": false,
    "pycharm": {
     "name": "#%% md\n"
    }
   }
  },
  {
   "cell_type": "markdown",
   "source": [
    "### Libraries"
   ],
   "metadata": {
    "collapsed": false,
    "pycharm": {
     "name": "#%% md\n"
    }
   }
  },
  {
   "cell_type": "code",
   "execution_count": 1,
   "outputs": [],
   "source": [
    "import sys\n",
    "import pandas as pd\n",
    "\n",
    "sys.path.append(\"..\")\n",
    "\n",
    "from swisscom import launch"
   ],
   "metadata": {
    "collapsed": false,
    "pycharm": {
     "name": "#%%\n"
    }
   }
  },
  {
   "cell_type": "markdown",
   "source": [
    "### Reading text"
   ],
   "metadata": {
    "collapsed": false,
    "pycharm": {
     "name": "#%% md\n"
    }
   }
  },
  {
   "cell_type": "code",
   "execution_count": 2,
   "outputs": [],
   "source": [
    "file = open(\"text.txt\")\n",
    "raw_text = file.read()"
   ],
   "metadata": {
    "collapsed": false,
    "pycharm": {
     "name": "#%%\n"
    }
   }
  },
  {
   "cell_type": "markdown",
   "source": [
    "### Creating embedding distributor and position tagger"
   ],
   "metadata": {
    "collapsed": false
   }
  },
  {
   "cell_type": "code",
   "execution_count": 3,
   "outputs": [],
   "source": [
    "embedding_distributor = launch.load_local_embedding_distributor()\n",
    "pos_tagger = launch.load_local_corenlp_pos_tagger()"
   ],
   "metadata": {
    "collapsed": false,
    "pycharm": {
     "name": "#%%\n"
    }
   }
  },
  {
   "cell_type": "markdown",
   "source": [
    "### Matching key phrases"
   ],
   "metadata": {
    "collapsed": false,
    "pycharm": {
     "name": "#%% md\n"
    }
   }
  },
  {
   "cell_type": "code",
   "execution_count": 4,
   "outputs": [],
   "source": [
    "kp = launch.extract_keyphrases(embedding_distributor, pos_tagger, raw_text, 5, 'en')  # extract 5 keyphrases\n",
    "\n",
    "phrases, relevances, aliases = kp"
   ],
   "metadata": {
    "collapsed": false,
    "pycharm": {
     "name": "#%%\n"
    }
   }
  },
  {
   "cell_type": "code",
   "execution_count": 5,
   "outputs": [
    {
     "data": {
      "text/plain": "<pandas.io.formats.style.Styler at 0x7ff689403b20>",
      "text/html": "<style  type=\"text/css\" >\n</style><table id=\"T_7680e58a_4372_11eb_a216_acde48001122\" ><thead>    <tr>        <th class=\"col_heading level0 col0\" >Phrase</th>        <th class=\"col_heading level0 col1\" >Relevance</th>        <th class=\"col_heading level0 col2\" >Aliases</th>    </tr></thead><tbody>\n                <tr>\n                                <td id=\"T_7680e58a_4372_11eb_a216_acde48001122row0_col0\" class=\"data row0 col0\" >valley</td>\n                        <td id=\"T_7680e58a_4372_11eb_a216_acde48001122row0_col1\" class=\"data row0 col1\" >1.000000</td>\n                        <td id=\"T_7680e58a_4372_11eb_a216_acde48001122row0_col2\" class=\"data row0 col2\" >[]</td>\n            </tr>\n            <tr>\n                                <td id=\"T_7680e58a_4372_11eb_a216_acde48001122row1_col0\" class=\"data row1 col0\" >tropics</td>\n                        <td id=\"T_7680e58a_4372_11eb_a216_acde48001122row1_col1\" class=\"data row1 col1\" >0.742422</td>\n                        <td id=\"T_7680e58a_4372_11eb_a216_acde48001122row1_col2\" class=\"data row1 col2\" >[]</td>\n            </tr>\n            <tr>\n                                <td id=\"T_7680e58a_4372_11eb_a216_acde48001122row2_col0\" class=\"data row2 col0\" >desert</td>\n                        <td id=\"T_7680e58a_4372_11eb_a216_acde48001122row2_col1\" class=\"data row2 col1\" >0.930213</td>\n                        <td id=\"T_7680e58a_4372_11eb_a216_acde48001122row2_col2\" class=\"data row2 col2\" >[]</td>\n            </tr>\n            <tr>\n                                <td id=\"T_7680e58a_4372_11eb_a216_acde48001122row3_col0\" class=\"data row3 col0\" >mountain</td>\n                        <td id=\"T_7680e58a_4372_11eb_a216_acde48001122row3_col1\" class=\"data row3 col1\" >0.445476</td>\n                        <td id=\"T_7680e58a_4372_11eb_a216_acde48001122row3_col2\" class=\"data row3 col2\" >[]</td>\n            </tr>\n            <tr>\n                                <td id=\"T_7680e58a_4372_11eb_a216_acde48001122row4_col0\" class=\"data row4 col0\" >luxury</td>\n                        <td id=\"T_7680e58a_4372_11eb_a216_acde48001122row4_col1\" class=\"data row4 col1\" >0.629726</td>\n                        <td id=\"T_7680e58a_4372_11eb_a216_acde48001122row4_col2\" class=\"data row4 col2\" >[]</td>\n            </tr>\n    </tbody></table>"
     },
     "execution_count": 5,
     "metadata": {},
     "output_type": "execute_result"
    }
   ],
   "source": [
    "data = { 'Phrase': phrases,\n",
    "         'Relevance': relevances,\n",
    "         'Aliases': aliases\n",
    "         }\n",
    "\n",
    "df = pd.DataFrame(data, columns=['Phrase', 'Relevance', 'Aliases'])\n",
    "df.style.hide_index()\n"
   ],
   "metadata": {
    "collapsed": false,
    "pycharm": {
     "name": "#%%\n"
    }
   }
  }
 ],
 "metadata": {
  "kernelspec": {
   "name": "python3",
   "language": "python",
   "display_name": "Python 3"
  },
  "language_info": {
   "codemirror_mode": {
    "name": "ipython",
    "version": 2
   },
   "file_extension": ".py",
   "mimetype": "text/x-python",
   "name": "python",
   "nbconvert_exporter": "python",
   "pygments_lexer": "ipython2",
   "version": "2.7.6"
  }
 },
 "nbformat": 4,
 "nbformat_minor": 0
}