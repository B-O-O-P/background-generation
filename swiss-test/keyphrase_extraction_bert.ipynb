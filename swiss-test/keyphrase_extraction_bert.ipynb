{
 "cells": [
  {
   "cell_type": "markdown",
   "source": [
    "# Background key phrase matching\n",
    "\n",
    "This is an example of matching background key phrase to text key phrases\n",
    "by using [EmbedRank implementation](https://github.com/swisscom/ai-research-keyphrase-extraction).\n",
    "\n",
    "EmbedRank embeds both the document and background phrases into the same embedding space.\n",
    "Current background phrases:\n",
    "\n",
    "**\"hill\", \"beach\", \"mountain\", \"valley\", \"city\"**\n",
    "\n",
    "Determining a suitable tag is done by using [Maximal Margin Relevance](https://medium.com/tech-that-works/maximal-marginal-relevance-to-rerank-results-in-unsupervised-keyphrase-extraction-22d95015c7c5#:~:text=Maximal%20Marginal%20Relevance%20a.k.a.%20MMR,already%20ranked%20documents%2Fphrases%20etc.)\n",
    "using the cosine similarity between the background tags\n",
    "and the document in order to model the informativness and the cosine similarity between\n",
    "the tags is used to model the diversity.\n",
    "\n",
    "[Example text](text.txt)"
   ],
   "metadata": {
    "collapsed": false,
    "pycharm": {
     "name": "#%% md\n"
    }
   }
  },
  {
   "cell_type": "markdown",
   "source": [
    "### Libraries"
   ],
   "metadata": {
    "collapsed": false,
    "pycharm": {
     "name": "#%% md\n"
    }
   }
  },
  {
   "cell_type": "code",
   "execution_count": 16,
   "outputs": [],
   "source": [
    "import sys\n",
    "import pandas as pd\n",
    "\n",
    "sys.path.append(\"..\")\n",
    "\n",
    "from swisscom import launch"
   ],
   "metadata": {
    "collapsed": false,
    "pycharm": {
     "name": "#%%\n"
    }
   }
  },
  {
   "cell_type": "markdown",
   "source": [
    "### Reading text"
   ],
   "metadata": {
    "collapsed": false,
    "pycharm": {
     "name": "#%% md\n"
    }
   }
  },
  {
   "cell_type": "code",
   "execution_count": 17,
   "outputs": [],
   "source": [
    "file = open(\"text.txt\")\n",
    "raw_text = file.read()"
   ],
   "metadata": {
    "collapsed": false,
    "pycharm": {
     "name": "#%%\n"
    }
   }
  },
  {
   "cell_type": "markdown",
   "source": [
    "### Creating embedding distributor and position tagger"
   ],
   "metadata": {
    "collapsed": false
   }
  },
  {
   "cell_type": "code",
   "execution_count": 18,
   "outputs": [],
   "source": [
    "embedding_distributor = launch.load_local_embedding_distributor()\n",
    "pos_tagger = launch.load_local_corenlp_pos_tagger()"
   ],
   "metadata": {
    "collapsed": false,
    "pycharm": {
     "name": "#%%\n"
    }
   }
  },
  {
   "cell_type": "markdown",
   "source": [
    "### Matching key phrases"
   ],
   "metadata": {
    "collapsed": false,
    "pycharm": {
     "name": "#%% md\n"
    }
   }
  },
  {
   "cell_type": "code",
   "execution_count": 19,
   "outputs": [
    {
     "name": "stdout",
     "output_type": "stream",
     "text": [
      "['hill' 'beach' 'mountain' 'valley' 'city']\n",
      "['area countryside right words week look words phrases different landscapes basic description area land grass trees green few green spaces city area green way attractive lush lush green valleys literary word verdant verdant meadows landscape few plants little rain arid few animals arid desert landscape technical description area little rain dry semi-arid semi-arid zone land dry rain long time earth/fields sun-baked land hard dry little rain long sun-baked earth full cracks other words shape land hilly area lots hills countryside round phrase hills descriptions attractive landscapes many gentle hills hills literary word undulating type landscape picturesque village hills landscape hills mountains mountainous mountainous region mountains snow top snow-capped snow-capped mountain range shape land craggy area lots rocks craggy coastline rugged similar area land wild flat photographs rugged landscape region course landscapes green hilly area flat trees hills other interesting features featureless grey featureless landscape negative adjectives featureless landscapes bleak desolate areas countryside empty cold nothing pleasant house bleak hilltop adjective context windswept windswept area land trees other high structures wind picture desolate windswept landscape']\n"
     ]
    }
   ],
   "source": [
    "kp = launch.extract_keyphrases(embedding_distributor, pos_tagger, raw_text, 5, 'en')  # extract 5 keyphrases\n",
    "\n",
    "phrases, relevances, aliases = kp"
   ],
   "metadata": {
    "collapsed": false,
    "pycharm": {
     "name": "#%%\n"
    }
   }
  },
  {
   "cell_type": "code",
   "execution_count": 20,
   "outputs": [
    {
     "data": {
      "text/plain": "<pandas.io.formats.style.Styler at 0x7fb8002c84f0>",
      "text/html": "<style  type=\"text/css\" >\n</style><table id=\"T_247beaa2_3d67_11eb_a10b_79583ea3fda4\" ><thead>    <tr>        <th class=\"col_heading level0 col0\" >Phrase</th>        <th class=\"col_heading level0 col1\" >Relevance</th>        <th class=\"col_heading level0 col2\" >Aliases</th>    </tr></thead><tbody>\n                <tr>\n                                <td id=\"T_247beaa2_3d67_11eb_a10b_79583ea3fda4row0_col0\" class=\"data row0 col0\" >beach</td>\n                        <td id=\"T_247beaa2_3d67_11eb_a10b_79583ea3fda4row0_col1\" class=\"data row0 col1\" >1.000000</td>\n                        <td id=\"T_247beaa2_3d67_11eb_a10b_79583ea3fda4row0_col2\" class=\"data row0 col2\" >['city', 'mountain', 'valley', 'hill']</td>\n            </tr>\n            <tr>\n                                <td id=\"T_247beaa2_3d67_11eb_a10b_79583ea3fda4row1_col0\" class=\"data row1 col0\" >mountain</td>\n                        <td id=\"T_247beaa2_3d67_11eb_a10b_79583ea3fda4row1_col1\" class=\"data row1 col1\" >0.990368</td>\n                        <td id=\"T_247beaa2_3d67_11eb_a10b_79583ea3fda4row1_col2\" class=\"data row1 col2\" >['valley', 'city', 'hill', 'beach']</td>\n            </tr>\n            <tr>\n                                <td id=\"T_247beaa2_3d67_11eb_a10b_79583ea3fda4row2_col0\" class=\"data row2 col0\" >hill</td>\n                        <td id=\"T_247beaa2_3d67_11eb_a10b_79583ea3fda4row2_col1\" class=\"data row2 col1\" >0.954817</td>\n                        <td id=\"T_247beaa2_3d67_11eb_a10b_79583ea3fda4row2_col2\" class=\"data row2 col2\" >['valley', 'mountain', 'city', 'beach']</td>\n            </tr>\n            <tr>\n                                <td id=\"T_247beaa2_3d67_11eb_a10b_79583ea3fda4row3_col0\" class=\"data row3 col0\" >city</td>\n                        <td id=\"T_247beaa2_3d67_11eb_a10b_79583ea3fda4row3_col1\" class=\"data row3 col1\" >0.957754</td>\n                        <td id=\"T_247beaa2_3d67_11eb_a10b_79583ea3fda4row3_col2\" class=\"data row3 col2\" >['mountain', 'beach', 'valley', 'hill']</td>\n            </tr>\n            <tr>\n                                <td id=\"T_247beaa2_3d67_11eb_a10b_79583ea3fda4row4_col0\" class=\"data row4 col0\" >valley</td>\n                        <td id=\"T_247beaa2_3d67_11eb_a10b_79583ea3fda4row4_col1\" class=\"data row4 col1\" >0.955975</td>\n                        <td id=\"T_247beaa2_3d67_11eb_a10b_79583ea3fda4row4_col2\" class=\"data row4 col2\" >['mountain', 'hill', 'city', 'beach']</td>\n            </tr>\n    </tbody></table>"
     },
     "execution_count": 20,
     "metadata": {},
     "output_type": "execute_result"
    }
   ],
   "source": [
    "data = { 'Phrase': phrases,\n",
    "         'Relevance': relevances,\n",
    "         'Aliases': aliases\n",
    "         }\n",
    "\n",
    "df = pd.DataFrame(data, columns=['Phrase', 'Relevance', 'Aliases'])\n",
    "df.style.hide_index()\n"
   ],
   "metadata": {
    "collapsed": false,
    "pycharm": {
     "name": "#%%\n"
    }
   }
  }
 ],
 "metadata": {
  "kernelspec": {
   "name": "pycharm-1e16abff",
   "language": "python",
   "display_name": "PyCharm (diplom)"
  },
  "language_info": {
   "codemirror_mode": {
    "name": "ipython",
    "version": 2
   },
   "file_extension": ".py",
   "mimetype": "text/x-python",
   "name": "python",
   "nbconvert_exporter": "python",
   "pygments_lexer": "ipython2",
   "version": "2.7.6"
  }
 },
 "nbformat": 4,
 "nbformat_minor": 0
}