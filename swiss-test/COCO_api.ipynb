{
 "cells": [
  {
   "cell_type": "code",
   "execution_count": 638,
   "metadata": {
    "collapsed": true
   },
   "outputs": [],
   "source": [
    "from pycocotools.coco import COCO\n",
    "import pandas as pd\n",
    "import nltk\n",
    "from tqdm.notebook import tqdm"
   ]
  },
  {
   "cell_type": "code",
   "execution_count": 639,
   "outputs": [
    {
     "name": "stderr",
     "output_type": "stream",
     "text": [
      "[nltk_data] Downloading package punkt to /Users/b-o-o-p/nltk_data...\n",
      "[nltk_data]   Package punkt is already up-to-date!\n",
      "[nltk_data] Downloading package averaged_perceptron_tagger to\n",
      "[nltk_data]     /Users/b-o-o-p/nltk_data...\n",
      "[nltk_data]   Package averaged_perceptron_tagger is already up-to-\n",
      "[nltk_data]       date!\n",
      "[nltk_data] Downloading package wordnet to /Users/b-o-o-p/nltk_data...\n",
      "[nltk_data]   Package wordnet is already up-to-date!\n"
     ]
    }
   ],
   "source": [
    "nltk.download('punkt')\n",
    "nltk.download('averaged_perceptron_tagger')\n",
    "nltk.download('wordnet')\n",
    "\n",
    "from nltk.stem.wordnet import WordNetLemmatizer\n"
   ],
   "metadata": {
    "collapsed": false,
    "pycharm": {
     "name": "#%%\n"
    }
   }
  },
  {
   "cell_type": "code",
   "execution_count": 640,
   "outputs": [],
   "source": [
    "dataDir='./data'\n",
    "dataType='val2017'\n",
    "annFile='{}/annotations/instances_{}.json'.format(dataDir, dataType)"
   ],
   "metadata": {
    "collapsed": false,
    "pycharm": {
     "name": "#%%\n"
    }
   }
  },
  {
   "cell_type": "code",
   "execution_count": 641,
   "outputs": [
    {
     "name": "stdout",
     "output_type": "stream",
     "text": [
      "loading annotations into memory...\n",
      "Done (t=0.59s)\n",
      "creating index...\n",
      "index created!\n"
     ]
    }
   ],
   "source": [
    "coco=COCO(annFile)"
   ],
   "metadata": {
    "collapsed": false,
    "pycharm": {
     "name": "#%%\n"
    }
   }
  },
  {
   "cell_type": "code",
   "execution_count": 642,
   "outputs": [
    {
     "name": "stdout",
     "output_type": "stream",
     "text": [
      "1\n"
     ]
    }
   ],
   "source": [
    "# get all images containing given categories, select one at random\n",
    "cats = coco.loadCats(coco.getCatIds())\n",
    "catsIds=[cat['id'] for cat in cats]\n",
    "cats = coco.getCatIds()\n",
    "print(cats[0])"
   ],
   "metadata": {
    "collapsed": false,
    "pycharm": {
     "name": "#%%\n"
    }
   }
  },
  {
   "cell_type": "code",
   "execution_count": 643,
   "outputs": [
    {
     "name": "stdout",
     "output_type": "stream",
     "text": [
      "5000\n",
      "{'license': 4, 'file_name': '000000397133.jpg', 'coco_url': 'http://images.cocodataset.org/val2017/000000397133.jpg', 'height': 427, 'width': 640, 'date_captured': '2013-11-14 17:02:52', 'flickr_url': 'http://farm7.staticflickr.com/6116/6255196340_da26cf2c9e_z.jpg', 'id': 397133}\n"
     ]
    }
   ],
   "source": [
    "imgIds = coco.getImgIds()\n",
    "print(len(imgIds))\n",
    "imgs = coco.loadImgs(ids=imgIds)\n",
    "print(imgs[0])"
   ],
   "metadata": {
    "collapsed": false,
    "pycharm": {
     "name": "#%%\n"
    }
   }
  },
  {
   "cell_type": "code",
   "execution_count": 644,
   "outputs": [
    {
     "name": "stdout",
     "output_type": "stream",
     "text": [
      "COCO categories: \n",
      "person bicycle car motorcycle airplane bus train truck boat traffic light fire hydrant stop sign parking meter bench bird cat dog horse sheep cow elephant bear zebra giraffe backpack umbrella handbag tie suitcase frisbee skis snowboard sports ball kite baseball bat baseball glove skateboard surfboard tennis racket bottle wine glass cup fork knife spoon bowl banana apple sandwich orange broccoli carrot hot dog pizza donut cake chair couch potted plant bed dining table toilet tv laptop mouse remote keyboard cell phone microwave oven toaster sink refrigerator book clock vase scissors teddy bear hair drier toothbrush\n",
      "\n",
      "COCO supercategories: \n",
      "furniture person vehicle outdoor sports electronic food indoor accessory kitchen appliance animal\n"
     ]
    }
   ],
   "source": [
    "# display COCO categories and supercategories\n",
    "cats = coco.loadCats(coco.getCatIds())\n",
    "nms=[cat['name'] for cat in cats]\n",
    "print('COCO categories: \\n{}\\n'.format(' '.join(nms)))\n",
    "\n",
    "nms = set([cat['supercategory'] for cat in cats])\n",
    "print('COCO supercategories: \\n{}'.format(' '.join(nms)))"
   ],
   "metadata": {
    "collapsed": false,
    "pycharm": {
     "name": "#%%\n"
    }
   }
  },
  {
   "cell_type": "code",
   "execution_count": 645,
   "outputs": [
    {
     "name": "stdout",
     "output_type": "stream",
     "text": [
      "loading annotations into memory...\n",
      "Done (t=0.05s)\n",
      "creating index...\n",
      "index created!\n"
     ]
    }
   ],
   "source": [
    "annFile = '{}/annotations/captions_{}.json'.format(dataDir,dataType)\n",
    "coco_caps=COCO(annFile)"
   ],
   "metadata": {
    "collapsed": false,
    "pycharm": {
     "name": "#%%\n"
    }
   }
  },
  {
   "cell_type": "code",
   "execution_count": 646,
   "outputs": [
    {
     "name": "stdout",
     "output_type": "stream",
     "text": [
      "397133\n",
      "A man is in a kitchen making pizzas.\n",
      "Man in apron standing on front of oven with pans and bakeware\n",
      "A baker is working in the kitchen rolling dough.\n",
      "A person standing by a stove in a kitchen.\n",
      "A table with pies being made and a person standing near a wall with pots and pans hanging on the wall.\n",
      "[{'image_id': 397133, 'id': 370509, 'caption': 'A man is in a kitchen making pizzas.'}, {'image_id': 397133, 'id': 370584, 'caption': 'Man in apron standing on front of oven with pans and bakeware'}, {'image_id': 397133, 'id': 372252, 'caption': 'A baker is working in the kitchen rolling dough.'}, {'image_id': 397133, 'id': 372765, 'caption': 'A person standing by a stove in a kitchen.'}, {'image_id': 397133, 'id': 375891, 'caption': 'A table with pies being made and a person standing near a wall with pots and pans hanging on the wall.'}]\n"
     ]
    }
   ],
   "source": [
    "# load and display caption annotations\n",
    "annIds = coco_caps.getAnnIds(imgIds=imgIds[0], iscrowd=None)\n",
    "print(imgIds[0])\n",
    "anns = coco_caps.loadAnns(annIds)\n",
    "coco_caps.showAnns(anns)\n",
    "print(anns)"
   ],
   "metadata": {
    "collapsed": false,
    "pycharm": {
     "name": "#%%\n"
    }
   }
  },
  {
   "cell_type": "code",
   "execution_count": 647,
   "outputs": [
    {
     "name": "stdout",
     "output_type": "stream",
     "text": [
      "loading annotations into memory...\n",
      "Done (t=0.22s)\n",
      "creating index...\n",
      "index created!\n",
      "[{'segmentation': [[446.71, 70.66, 466.07, 72.89, 471.28, 78.85, 473.51, 88.52, 473.51, 98.2, 462.34, 111.6, 475.74, 126.48, 484.67, 136.16, 494.35, 157.74, 496.58, 174.12, 498.07, 182.31, 485.42, 189.75, 474.25, 189.01, 470.53, 202.4, 475.74, 337.12, 469.04, 347.54, 455.65, 343.08, 450.44, 323.72, 441.5, 255.99, 433.32, 250.04, 406.52, 340.1, 397.59, 344.56, 388.66, 330.42, 408.01, 182.31, 396.85, 186.77, 392.38, 177.84, 389.4, 166.68, 390.89, 147.32, 418.43, 119.04, 434.06, 111.6, 429.6, 98.94, 428.85, 81.08, 441.5, 72.89, 443.74, 69.92]], 'num_keypoints': 13, 'area': 17376.91885, 'iscrowd': 0, 'keypoints': [433, 94, 2, 434, 90, 2, 0, 0, 0, 443, 98, 2, 0, 0, 0, 420, 128, 2, 474, 133, 2, 396, 162, 2, 489, 173, 2, 0, 0, 0, 0, 0, 0, 419, 214, 2, 458, 215, 2, 411, 274, 2, 458, 273, 2, 402, 333, 2, 465, 334, 2], 'image_id': 397133, 'bbox': [388.66, 69.92, 109.41, 277.62], 'category_id': 1, 'id': 200887}, {'segmentation': [[0.43, 299.58, 2.25, 299.58, 9.05, 287.78, 32.66, 299.13, 39.01, 296.4, 48.09, 290.96, 43.55, 286.87, 62.16, 291.86, 61.25, 286.87, 37.65, 279.15, 18.13, 272.8, 0, 262.81]], 'num_keypoints': 1, 'area': 1037.7819, 'iscrowd': 0, 'keypoints': [0, 0, 0, 0, 0, 0, 0, 0, 0, 0, 0, 0, 0, 0, 0, 0, 0, 0, 0, 0, 0, 0, 0, 0, 0, 0, 0, 9, 277, 2, 0, 0, 0, 0, 0, 0, 0, 0, 0, 0, 0, 0, 0, 0, 0, 0, 0, 0, 0, 0, 0], 'image_id': 397133, 'bbox': [0, 262.81, 62.16, 36.77], 'category_id': 1, 'id': 1218137}]\n",
      "1\n",
      "bicycle\n"
     ]
    }
   ],
   "source": [
    "# initialize COCO api for person keypoints annotations\n",
    "annFile = '{}/annotations/person_keypoints_{}.json'.format(dataDir, dataType)\n",
    "coco_kps=COCO(annFile)\n",
    "\n",
    "annIds = coco_kps.getAnnIds(imgIds=imgIds[0], iscrowd=None)\n",
    "anns = coco_kps.loadAnns(annIds)\n",
    "print(anns)\n",
    "print(int(anns[0]['category_id']))\n",
    "print(cats[int(anns[0]['category_id'])]['name'])"
   ],
   "metadata": {
    "collapsed": false,
    "pycharm": {
     "name": "#%%\n"
    }
   }
  },
  {
   "cell_type": "code",
   "execution_count": 648,
   "outputs": [],
   "source": [
    "def getCaps(coco, imgId):\n",
    "    caps = coco.loadAnns(coco.getAnnIds(imgIds=imgId))\n",
    "    return list(map(lambda cap: cap['caption'], caps))\n",
    "\n",
    "def get_url(coco, imgId):\n",
    "    imgs = coco.loadImgs(ids=imgId)\n",
    "    return next(img['coco_url'] for img in imgs if img['id'] == imgId)\n",
    "\n",
    "\n",
    "def get_categories(coco, imgId):\n",
    "    try:\n",
    "        anns = coco.loadAnns(coco.getAnnIds(imgIds=imgId))\n",
    "        if len(anns):\n",
    "            catIds = [ann['category_id'] for ann in anns if ann['image_id'] == imgId]\n",
    "            cats = coco.loadCats(coco.getCatIds(catIds=catIds))\n",
    "            result = [cat['name'] for cat in cats]\n",
    "            result.append('man')\n",
    "            result.append('woman')\n",
    "            result.append('human')\n",
    "            result.append('people')\n",
    "            result.append('person')\n",
    "            return result\n",
    "        else:\n",
    "            return None\n",
    "    except KeyError:\n",
    "        return None"
   ],
   "metadata": {
    "collapsed": false,
    "pycharm": {
     "name": "#%%\n"
    }
   }
  },
  {
   "cell_type": "code",
   "execution_count": 649,
   "outputs": [],
   "source": [
    "def process_cap(cap, cats):\n",
    "    words = nltk.word_tokenize(cap.lower())\n",
    "    no_punkt = [word for word in words if word.isalnum()]\n",
    "    tags = nltk.pos_tag(no_punkt)\n",
    "    catsL = [cat.lower() for cat in cats]\n",
    "    nounsAndAdjs = [word for word,pos in tags if (pos == 'NN' or pos == 'NNS')]\n",
    "\n",
    "    Lem = WordNetLemmatizer()\n",
    "    words = [Lem.lemmatize(word) for word in nounsAndAdjs]\n",
    "    result = []\n",
    "\n",
    "    for word in words:\n",
    "        isSyn = False\n",
    "        for syn in nltk.corpus.wordnet.synsets(word):\n",
    "            hypernyms = [h.name().split('.')[0] for h in syn.hypernyms()]\n",
    "            synonyms = [l.name() for l in syn.lemmas()]\n",
    "            hyponyms = [h.name().split('.')[0] for h in syn.hyponyms()]\n",
    "            meronyms = [m.name().split('.')[0] for m in syn.part_meronyms()]\n",
    "\n",
    "            if any(cat == word or\n",
    "                   cat in hyponyms\n",
    "                   or cat in synonyms\n",
    "                   or cat in hypernyms\n",
    "                   or cat in meronyms\n",
    "                   for cat in catsL):\n",
    "                isSyn = True\n",
    "\n",
    "        if not isSyn:\n",
    "            result.append(word)\n",
    "\n",
    "    return result\n"
   ],
   "metadata": {
    "collapsed": false,
    "pycharm": {
     "name": "#%%\n"
    }
   }
  },
  {
   "cell_type": "code",
   "execution_count": 650,
   "outputs": [],
   "source": [
    "def getImgsWithCaptions(coco, cocoCaps, imgs):\n",
    "    result = []\n",
    "\n",
    "    for img in tqdm(imgs):\n",
    "        id = img['id']\n",
    "        categories = get_categories(coco, id) or []\n",
    "        url = get_url(coco, id)\n",
    "        caps = getCaps(cocoCaps, id)\n",
    "        if categories:\n",
    "            for cap in caps:\n",
    "                objects = list(set(process_cap(cap, categories)))\n",
    "                result.append({\n",
    "                    'id': id,\n",
    "                    'cap': cap,\n",
    "                    'url': url,\n",
    "                    'background': objects,\n",
    "                })\n",
    "\n",
    "    return result"
   ],
   "metadata": {
    "collapsed": false,
    "pycharm": {
     "name": "#%%\n"
    }
   }
  },
  {
   "cell_type": "code",
   "execution_count": 651,
   "outputs": [
    {
     "data": {
      "text/plain": "  0%|          | 0/5000 [00:00<?, ?it/s]",
      "application/vnd.jupyter.widget-view+json": {
       "version_major": 2,
       "version_minor": 0,
       "model_id": "33b5669ad3964ef882e05641f0c9feb9"
      }
     },
     "metadata": {},
     "output_type": "display_data"
    },
    {
     "data": {
      "text/plain": "<pandas.io.formats.style.Styler at 0x7f864b9e2bb0>",
      "text/html": "<style  type=\"text/css\" >\n</style><table id=\"T_6878b_\" ><thead>    <tr>        <th class=\"col_heading level0 col0\" >id</th>        <th class=\"col_heading level0 col1\" >cap</th>        <th class=\"col_heading level0 col2\" >url</th>        <th class=\"col_heading level0 col3\" >background</th>    </tr></thead><tbody>\n                <tr>\n                                <td id=\"T_6878b_row0_col0\" class=\"data row0 col0\" >397133</td>\n                        <td id=\"T_6878b_row0_col1\" class=\"data row0 col1\" >A man is in a kitchen making pizzas.</td>\n                        <td id=\"T_6878b_row0_col2\" class=\"data row0 col2\" >http://images.cocodataset.org/val2017/000000397133.jpg</td>\n                        <td id=\"T_6878b_row0_col3\" class=\"data row0 col3\" >['kitchen', 'pizza']</td>\n            </tr>\n            <tr>\n                                <td id=\"T_6878b_row1_col0\" class=\"data row1 col0\" >397133</td>\n                        <td id=\"T_6878b_row1_col1\" class=\"data row1 col1\" >Man in apron standing on front of oven with pans and bakeware</td>\n                        <td id=\"T_6878b_row1_col2\" class=\"data row1 col2\" >http://images.cocodataset.org/val2017/000000397133.jpg</td>\n                        <td id=\"T_6878b_row1_col3\" class=\"data row1 col3\" >['apron', 'front', 'standing', 'pan', 'bakeware']</td>\n            </tr>\n            <tr>\n                                <td id=\"T_6878b_row2_col0\" class=\"data row2 col0\" >397133</td>\n                        <td id=\"T_6878b_row2_col1\" class=\"data row2 col1\" >A baker is working in the kitchen rolling dough.</td>\n                        <td id=\"T_6878b_row2_col2\" class=\"data row2 col2\" >http://images.cocodataset.org/val2017/000000397133.jpg</td>\n                        <td id=\"T_6878b_row2_col3\" class=\"data row2 col3\" >['kitchen', 'baker', 'dough']</td>\n            </tr>\n            <tr>\n                                <td id=\"T_6878b_row3_col0\" class=\"data row3 col0\" >397133</td>\n                        <td id=\"T_6878b_row3_col1\" class=\"data row3 col1\" >A person standing by a stove in a kitchen.</td>\n                        <td id=\"T_6878b_row3_col2\" class=\"data row3 col2\" >http://images.cocodataset.org/val2017/000000397133.jpg</td>\n                        <td id=\"T_6878b_row3_col3\" class=\"data row3 col3\" >['kitchen', 'stove']</td>\n            </tr>\n            <tr>\n                                <td id=\"T_6878b_row4_col0\" class=\"data row4 col0\" >397133</td>\n                        <td id=\"T_6878b_row4_col1\" class=\"data row4 col1\" >A table with pies being made and a person standing near a wall with pots and pans hanging on the wall.</td>\n                        <td id=\"T_6878b_row4_col2\" class=\"data row4 col2\" >http://images.cocodataset.org/val2017/000000397133.jpg</td>\n                        <td id=\"T_6878b_row4_col3\" class=\"data row4 col3\" >['pie', 'pan', 'wall', 'table', 'pot']</td>\n            </tr>\n    </tbody></table>"
     },
     "execution_count": 651,
     "metadata": {},
     "output_type": "execute_result"
    }
   ],
   "source": [
    "imgsWithCaptions = getImgsWithCaptions(coco, coco_caps, imgs)\n",
    "\n",
    "df = pd.DataFrame(imgsWithCaptions, columns=['id', 'cap', 'url', 'background'])\n",
    "df.head().style.hide_index()"
   ],
   "metadata": {
    "collapsed": false,
    "pycharm": {
     "name": "#%%\n"
    }
   }
  },
  {
   "cell_type": "code",
   "execution_count": 652,
   "outputs": [
    {
     "name": "stdout",
     "output_type": "stream",
     "text": [
      "Total number of caps: 24774\n",
      "Number of unique background words: 3662\n"
     ]
    }
   ],
   "source": [
    "backgrounds = set()\n",
    "\n",
    "for info in imgsWithCaptions:\n",
    "    b = info['background']\n",
    "    for background in b:\n",
    "        backgrounds.add(background)\n",
    "\n",
    "print('Total number of caps: {}'.format(len(imgsWithCaptions)))\n",
    "print('Number of unique background words: {}'.format(len(backgrounds)))"
   ],
   "metadata": {
    "collapsed": false,
    "pycharm": {
     "name": "#%%\n"
    }
   }
  },
  {
   "cell_type": "code",
   "execution_count": 653,
   "outputs": [
    {
     "data": {
      "text/plain": "<pandas.io.formats.style.Styler at 0x7f86cce92d60>",
      "text/html": "<style  type=\"text/css\" >\n</style><table id=\"T_ca102_\" ><thead>    <tr>        <th class=\"col_heading level0 col0\" >id</th>        <th class=\"col_heading level0 col1\" >cap</th>        <th class=\"col_heading level0 col2\" >url</th>        <th class=\"col_heading level0 col3\" >background</th>    </tr></thead><tbody>\n                <tr>\n                                <td id=\"T_ca102_row0_col0\" class=\"data row0 col0\" >500663</td>\n                        <td id=\"T_ca102_row0_col1\" class=\"data row0 col1\" >Cattle are grazing in a bright green pasture along a river and mountains.</td>\n                        <td id=\"T_ca102_row0_col2\" class=\"data row0 col2\" >http://images.cocodataset.org/val2017/000000500663.jpg</td>\n                        <td id=\"T_ca102_row0_col3\" class=\"data row0 col3\" >['pasture', 'river', 'mountain']</td>\n            </tr>\n            <tr>\n                                <td id=\"T_ca102_row1_col0\" class=\"data row1 col0\" >785</td>\n                        <td id=\"T_ca102_row1_col1\" class=\"data row1 col1\" >A young woman is skiing down the mountain slope. </td>\n                        <td id=\"T_ca102_row1_col2\" class=\"data row1 col2\" >http://images.cocodataset.org/val2017/000000000785.jpg</td>\n                        <td id=\"T_ca102_row1_col3\" class=\"data row1 col3\" >['mountain', 'slope']</td>\n            </tr>\n            <tr>\n                                <td id=\"T_ca102_row2_col0\" class=\"data row2 col0\" >99242</td>\n                        <td id=\"T_ca102_row2_col1\" class=\"data row2 col1\" >An older man is skiing down a snowy mountain.</td>\n                        <td id=\"T_ca102_row2_col2\" class=\"data row2 col2\" >http://images.cocodataset.org/val2017/000000099242.jpg</td>\n                        <td id=\"T_ca102_row2_col3\" class=\"data row2 col3\" >['snowy', 'mountain']</td>\n            </tr>\n            <tr>\n                                <td id=\"T_ca102_row3_col0\" class=\"data row3 col0\" >541055</td>\n                        <td id=\"T_ca102_row3_col1\" class=\"data row3 col1\" >A group of people on skis at a peak of a mountain.</td>\n                        <td id=\"T_ca102_row3_col2\" class=\"data row3 col2\" >http://images.cocodataset.org/val2017/000000541055.jpg</td>\n                        <td id=\"T_ca102_row3_col3\" class=\"data row3 col3\" >['ski', 'peak', 'mountain']</td>\n            </tr>\n            <tr>\n                                <td id=\"T_ca102_row4_col0\" class=\"data row4 col0\" >409475</td>\n                        <td id=\"T_ca102_row4_col1\" class=\"data row4 col1\" >A smiling pair of skiers with a huge snow covered mountain behind them.</td>\n                        <td id=\"T_ca102_row4_col2\" class=\"data row4 col2\" >http://images.cocodataset.org/val2017/000000409475.jpg</td>\n                        <td id=\"T_ca102_row4_col3\" class=\"data row4 col3\" >['pair', 'snow', 'skier', 'mountain']</td>\n            </tr>\n    </tbody></table>"
     },
     "execution_count": 653,
     "metadata": {},
     "output_type": "execute_result"
    }
   ],
   "source": [
    "imgWithMountains = [img for img in imgsWithCaptions if 'mountain' in img['background']]\n",
    "\n",
    "df = pd.DataFrame(imgWithMountains, columns=['id', 'cap', 'url', 'background'])\n",
    "df.head().style.hide_index()"
   ],
   "metadata": {
    "collapsed": false,
    "pycharm": {
     "name": "#%%\n"
    }
   }
  }
 ],
 "metadata": {
  "kernelspec": {
   "display_name": "Python 3",
   "language": "python",
   "name": "python3"
  },
  "language_info": {
   "codemirror_mode": {
    "name": "ipython",
    "version": 2
   },
   "file_extension": ".py",
   "mimetype": "text/x-python",
   "name": "python",
   "nbconvert_exporter": "python",
   "pygments_lexer": "ipython2",
   "version": "2.7.6"
  }
 },
 "nbformat": 4,
 "nbformat_minor": 0
}