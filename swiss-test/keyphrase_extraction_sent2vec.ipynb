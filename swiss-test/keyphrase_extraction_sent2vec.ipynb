{
 "cells": [
  {
   "cell_type": "markdown",
   "source": [
    "# Background key phrase matching\n",
    "\n",
    "This is an example of matching background key phrase to text key phrases\n",
    "by using [EmbedRank implementation](https://github.com/swisscom/ai-research-keyphrase-extraction).\n",
    "\n",
    "EmbedRank embeds both the document and background phrases into the same embedding space.\n",
    "Current background phrases:\n",
    "\n",
    "**\"hill\", \"beach\", \"mountain\", \"valley\", \"city\"**\n",
    "\n",
    "Determining a suitable tag is done by using [Maximal Margin Relevance](https://medium.com/tech-that-works/maximal-marginal-relevance-to-rerank-results-in-unsupervised-keyphrase-extraction-22d95015c7c5#:~:text=Maximal%20Marginal%20Relevance%20a.k.a.%20MMR,already%20ranked%20documents%2Fphrases%20etc.)\n",
    "using the cosine similarity between the background tags\n",
    "and the document in order to model the informativness and the cosine similarity between\n",
    "the tags is used to model the diversity.\n",
    "\n",
    "[Example text](text.txt)"
   ],
   "metadata": {
    "collapsed": false,
    "pycharm": {
     "name": "#%% md\n"
    }
   }
  },
  {
   "cell_type": "markdown",
   "source": [
    "### Libraries"
   ],
   "metadata": {
    "collapsed": false,
    "pycharm": {
     "name": "#%% md\n"
    }
   }
  },
  {
   "cell_type": "code",
   "execution_count": 1,
   "outputs": [],
   "source": [
    "import sys\n",
    "import pandas as pd\n",
    "\n",
    "sys.path.append(\"..\")\n",
    "\n",
    "from swisscom import launch"
   ],
   "metadata": {
    "collapsed": false,
    "pycharm": {
     "name": "#%%\n"
    }
   }
  },
  {
   "cell_type": "markdown",
   "source": [
    "### Reading text"
   ],
   "metadata": {
    "collapsed": false,
    "pycharm": {
     "name": "#%% md\n"
    }
   }
  },
  {
   "cell_type": "code",
   "execution_count": 2,
   "outputs": [],
   "source": [
    "file = open(\"text.txt\")\n",
    "raw_text = file.read()"
   ],
   "metadata": {
    "collapsed": false,
    "pycharm": {
     "name": "#%%\n"
    }
   }
  },
  {
   "cell_type": "markdown",
   "source": [
    "### Creating embedding distributor and position tagger"
   ],
   "metadata": {
    "collapsed": false
   }
  },
  {
   "cell_type": "code",
   "execution_count": 3,
   "outputs": [],
   "source": [
    "embedding_distributor = launch.load_local_embedding_distributor()\n",
    "pos_tagger = launch.load_local_corenlp_pos_tagger()"
   ],
   "metadata": {
    "collapsed": false,
    "pycharm": {
     "name": "#%%\n"
    }
   }
  },
  {
   "cell_type": "markdown",
   "source": [
    "### Matching key phrases"
   ],
   "metadata": {
    "collapsed": false,
    "pycharm": {
     "name": "#%% md\n"
    }
   }
  },
  {
   "cell_type": "code",
   "execution_count": 4,
   "outputs": [],
   "source": [
    "kp = launch.extract_keyphrases(embedding_distributor, pos_tagger, raw_text, 5, 'en')  # extract 5 keyphrases\n",
    "\n",
    "phrases, relevances, aliases = kp"
   ],
   "metadata": {
    "collapsed": false,
    "pycharm": {
     "name": "#%%\n"
    }
   }
  },
  {
   "cell_type": "code",
   "execution_count": 15,
   "outputs": [
    {
     "data": {
      "text/plain": "<pandas.io.formats.style.Styler at 0x7ff85f97c0d0>",
      "text/html": "<style  type=\"text/css\" >\n</style><table id=\"T_b8b5e3c0_387c_11eb_b1c0_8d44694c88f7\" ><thead>    <tr>        <th class=\"col_heading level0 col0\" >Phrase</th>        <th class=\"col_heading level0 col1\" >Relevance</th>        <th class=\"col_heading level0 col2\" >Aliases</th>    </tr></thead><tbody>\n                <tr>\n                                <td id=\"T_b8b5e3c0_387c_11eb_b1c0_8d44694c88f7row0_col0\" class=\"data row0 col0\" >mountain</td>\n                        <td id=\"T_b8b5e3c0_387c_11eb_b1c0_8d44694c88f7row0_col1\" class=\"data row0 col1\" >1.000000</td>\n                        <td id=\"T_b8b5e3c0_387c_11eb_b1c0_8d44694c88f7row0_col2\" class=\"data row0 col2\" >[]</td>\n            </tr>\n            <tr>\n                                <td id=\"T_b8b5e3c0_387c_11eb_b1c0_8d44694c88f7row1_col0\" class=\"data row1 col0\" >city</td>\n                        <td id=\"T_b8b5e3c0_387c_11eb_b1c0_8d44694c88f7row1_col1\" class=\"data row1 col1\" >0.568412</td>\n                        <td id=\"T_b8b5e3c0_387c_11eb_b1c0_8d44694c88f7row1_col2\" class=\"data row1 col2\" >[]</td>\n            </tr>\n            <tr>\n                                <td id=\"T_b8b5e3c0_387c_11eb_b1c0_8d44694c88f7row2_col0\" class=\"data row2 col0\" >valley</td>\n                        <td id=\"T_b8b5e3c0_387c_11eb_b1c0_8d44694c88f7row2_col1\" class=\"data row2 col1\" >0.819151</td>\n                        <td id=\"T_b8b5e3c0_387c_11eb_b1c0_8d44694c88f7row2_col2\" class=\"data row2 col2\" >[]</td>\n            </tr>\n            <tr>\n                                <td id=\"T_b8b5e3c0_387c_11eb_b1c0_8d44694c88f7row3_col0\" class=\"data row3 col0\" >hill</td>\n                        <td id=\"T_b8b5e3c0_387c_11eb_b1c0_8d44694c88f7row3_col1\" class=\"data row3 col1\" >0.707898</td>\n                        <td id=\"T_b8b5e3c0_387c_11eb_b1c0_8d44694c88f7row3_col2\" class=\"data row3 col2\" >[]</td>\n            </tr>\n            <tr>\n                                <td id=\"T_b8b5e3c0_387c_11eb_b1c0_8d44694c88f7row4_col0\" class=\"data row4 col0\" >beach</td>\n                        <td id=\"T_b8b5e3c0_387c_11eb_b1c0_8d44694c88f7row4_col1\" class=\"data row4 col1\" >0.371686</td>\n                        <td id=\"T_b8b5e3c0_387c_11eb_b1c0_8d44694c88f7row4_col2\" class=\"data row4 col2\" >[]</td>\n            </tr>\n    </tbody></table>"
     },
     "execution_count": 15,
     "metadata": {},
     "output_type": "execute_result"
    }
   ],
   "source": [
    "data = { 'Phrase': phrases,\n",
    "         'Relevance': relevances,\n",
    "         'Aliases': aliases\n",
    "         }\n",
    "\n",
    "df = pd.DataFrame(data, columns=['Phrase', 'Relevance', 'Aliases'])\n",
    "df.style.hide_index()\n"
   ],
   "metadata": {
    "collapsed": false,
    "pycharm": {
     "name": "#%%\n"
    }
   }
  }
 ],
 "metadata": {
  "kernelspec": {
   "name": "pycharm-1e16abff",
   "language": "python",
   "display_name": "PyCharm (diplom)"
  },
  "language_info": {
   "codemirror_mode": {
    "name": "ipython",
    "version": 2
   },
   "file_extension": ".py",
   "mimetype": "text/x-python",
   "name": "python",
   "nbconvert_exporter": "python",
   "pygments_lexer": "ipython2",
   "version": "2.7.6"
  }
 },
 "nbformat": 4,
 "nbformat_minor": 0
}