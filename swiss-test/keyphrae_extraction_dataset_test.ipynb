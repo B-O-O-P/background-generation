{
 "cells": [
  {
   "cell_type": "code",
   "execution_count": 40,
   "metadata": {
    "collapsed": true
   },
   "outputs": [],
   "source": [
    "import sys\n",
    "import pandas as pd\n",
    "import numpy as np\n",
    "from sklearn.base import BaseEstimator\n",
    "from sklearn.metrics import accuracy_score\n",
    "from swisscom import launch\n",
    "from tqdm.notebook import tqdm\n",
    "\n",
    "import warnings\n",
    "warnings.filterwarnings(\"ignore\")"
   ]
  },
  {
   "cell_type": "code",
   "execution_count": 41,
   "outputs": [],
   "source": [
    "sys.path.append(\"..\")\n",
    "\n",
    "\n",
    "data = pd.read_csv('./dataset.csv')"
   ],
   "metadata": {
    "collapsed": false,
    "pycharm": {
     "name": "#%%\n"
    }
   }
  },
  {
   "cell_type": "code",
   "execution_count": 42,
   "outputs": [],
   "source": [
    "X = data['text']\n",
    "y = data['loc']\n"
   ],
   "metadata": {
    "collapsed": false,
    "pycharm": {
     "name": "#%%\n"
    }
   }
  },
  {
   "cell_type": "code",
   "execution_count": 43,
   "outputs": [],
   "source": [
    "class KeyPhraseExtractionModel(BaseEstimator):\n",
    "    def __init__(self, embedding_model='roberta-large-nli-stsb-mean-tokens', beta=0.8, alias_threshold=0.7, n=1):\n",
    "        self.X = None\n",
    "        self.y = None\n",
    "        self.beta = beta\n",
    "        self.n = n\n",
    "        self.alias_threshold = alias_threshold\n",
    "        self.embedding_distributor = launch.load_local_embedding_distributor(embedding_model)\n",
    "        self.pos_tagger = launch.load_local_corenlp_pos_tagger()\n",
    "\n",
    "\n",
    "    def fit(self, X, y):\n",
    "        self.X = X\n",
    "        self.y = y\n",
    "\n",
    "\n",
    "    def predict(self, X):\n",
    "        return list(map(lambda text: launch.extract_keyphrases(self.embedding_distributor, self.pos_tagger, text, self.n, 'en', self.beta, self.alias_threshold)[0][0], X))"
   ],
   "metadata": {
    "collapsed": false,
    "pycharm": {
     "name": "#%%\n"
    }
   }
  },
  {
   "cell_type": "code",
   "execution_count": 44,
   "outputs": [],
   "source": [
    "betas = list(np.arange(0.7, 1.0, 0.1))\n",
    "models = [\n",
    "    'roberta-large-nli-stsb-mean-tokens',\n",
    "    'roberta-base-nli-stsb-mean-tokens',\n",
    "    'distilbert-base-nli-stsb-mean-tokens',\n",
    "    'distilroberta-base-paraphrase-v1',\n",
    "    'xlm-r-distilroberta-base-paraphrase-v1',\n",
    "    'distilroberta-base-msmarco-v2',\n",
    "    'LaBSE',\n",
    "    'facebook/bart-large-mnli',\n",
    "]"
   ],
   "metadata": {
    "collapsed": false,
    "pycharm": {
     "name": "#%%\n"
    }
   }
  },
  {
   "cell_type": "code",
   "execution_count": 45,
   "outputs": [],
   "source": [
    "def gen_params(models, betas):\n",
    "    for model in models:\n",
    "        for beta in betas:\n",
    "            yield model, beta\n"
   ],
   "metadata": {
    "collapsed": false,
    "pycharm": {
     "name": "#%%\n"
    }
   }
  },
  {
   "cell_type": "code",
   "execution_count": 46,
   "outputs": [
    {
     "data": {
      "text/plain": "HBox(children=(HTML(value=''), FloatProgress(value=0.0, max=32.0), HTML(value='')))",
      "application/vnd.jupyter.widget-view+json": {
       "version_major": 2,
       "version_minor": 0,
       "model_id": "466ca356a8024adeaa2d589f7ab713e8"
      }
     },
     "metadata": {},
     "output_type": "display_data"
    },
    {
     "name": "stderr",
     "output_type": "stream",
     "text": [
      "Exception when trying to download https://sbert.net/models/facebook/bart-large-mnli.zip. Response 404\n",
      "WARNING:root:SentenceTransformer-Model https://sbert.net/models/facebook/bart-large-mnli.zip not found. Try to create it from scratch\n",
      "WARNING:root:Try to create Transformer Model facebook/bart-large-mnli with mean pooling\n",
      "Some weights of the model checkpoint at facebook/bart-large-mnli were not used when initializing BartModel: ['model.encoder.version', 'model.decoder.version']\n",
      "- This IS expected if you are initializing BartModel from the checkpoint of a model trained on another task or with another architecture (e.g. initializing a BertForSequenceClassification model from a BertForPreTraining model).\n",
      "- This IS NOT expected if you are initializing BartModel from the checkpoint of a model that you expect to be exactly identical (initializing a BertForSequenceClassification model from a BertForSequenceClassification model).\n",
      "Exception when trying to download https://sbert.net/models/facebook/bart-large-mnli.zip. Response 404\n",
      "WARNING:root:SentenceTransformer-Model https://sbert.net/models/facebook/bart-large-mnli.zip not found. Try to create it from scratch\n",
      "WARNING:root:Try to create Transformer Model facebook/bart-large-mnli with mean pooling\n",
      "Some weights of the model checkpoint at facebook/bart-large-mnli were not used when initializing BartModel: ['model.encoder.version', 'model.decoder.version']\n",
      "- This IS expected if you are initializing BartModel from the checkpoint of a model trained on another task or with another architecture (e.g. initializing a BertForSequenceClassification model from a BertForPreTraining model).\n",
      "- This IS NOT expected if you are initializing BartModel from the checkpoint of a model that you expect to be exactly identical (initializing a BertForSequenceClassification model from a BertForSequenceClassification model).\n",
      "Exception when trying to download https://sbert.net/models/facebook/bart-large-mnli.zip. Response 404\n",
      "WARNING:root:SentenceTransformer-Model https://sbert.net/models/facebook/bart-large-mnli.zip not found. Try to create it from scratch\n",
      "WARNING:root:Try to create Transformer Model facebook/bart-large-mnli with mean pooling\n",
      "Some weights of the model checkpoint at facebook/bart-large-mnli were not used when initializing BartModel: ['model.encoder.version', 'model.decoder.version']\n",
      "- This IS expected if you are initializing BartModel from the checkpoint of a model trained on another task or with another architecture (e.g. initializing a BertForSequenceClassification model from a BertForPreTraining model).\n",
      "- This IS NOT expected if you are initializing BartModel from the checkpoint of a model that you expect to be exactly identical (initializing a BertForSequenceClassification model from a BertForSequenceClassification model).\n",
      "Exception when trying to download https://sbert.net/models/facebook/bart-large-mnli.zip. Response 404\n",
      "WARNING:root:SentenceTransformer-Model https://sbert.net/models/facebook/bart-large-mnli.zip not found. Try to create it from scratch\n",
      "WARNING:root:Try to create Transformer Model facebook/bart-large-mnli with mean pooling\n",
      "Some weights of the model checkpoint at facebook/bart-large-mnli were not used when initializing BartModel: ['model.encoder.version', 'model.decoder.version']\n",
      "- This IS expected if you are initializing BartModel from the checkpoint of a model trained on another task or with another architecture (e.g. initializing a BertForSequenceClassification model from a BertForPreTraining model).\n",
      "- This IS NOT expected if you are initializing BartModel from the checkpoint of a model that you expect to be exactly identical (initializing a BertForSequenceClassification model from a BertForSequenceClassification model).\n"
     ]
    },
    {
     "name": "stdout",
     "output_type": "stream",
     "text": [
      "\n",
      "Best results: \n",
      " Model: xlm-r-distilroberta-base-paraphrase-v1\n",
      " Beta: 0.7\n",
      " Accuracy: 74%\n"
     ]
    }
   ],
   "source": [
    "model = KeyPhraseExtractionModel()\n",
    "model.fit(X, y)\n",
    "\n",
    "best_model = None\n",
    "best_beta = None\n",
    "max_score = -1\n",
    "for embedding_model, beta in tqdm(list(gen_params(models, betas))):\n",
    "    model = KeyPhraseExtractionModel(embedding_model, beta)\n",
    "    score = accuracy_score(y_true=y, y_pred=model.predict(X))\n",
    "    if score > max_score:\n",
    "        max_score = score\n",
    "        best_model = embedding_model\n",
    "        best_beta = beta\n",
    "\n",
    "print('Best results: ')\n",
    "print(f' Model: {best_model}')\n",
    "print(f' Beta: {best_beta}')\n",
    "print(f' Accuracy: {int(max_score * 100)}%')"
   ],
   "metadata": {
    "collapsed": false,
    "pycharm": {
     "name": "#%%\n"
    }
   }
  },
  {
   "cell_type": "code",
   "execution_count": 47,
   "outputs": [
    {
     "data": {
      "text/plain": "HBox(children=(HTML(value=''), FloatProgress(value=1.0, bar_style='info', layout=Layout(width='20px'), max=1.0…",
      "application/vnd.jupyter.widget-view+json": {
       "version_major": 2,
       "version_minor": 0,
       "model_id": "2f8808b4f4814389a81c11212f9d2467"
      }
     },
     "metadata": {},
     "output_type": "display_data"
    },
    {
     "name": "stdout",
     "output_type": "stream",
     "text": [
      "\n"
     ]
    },
    {
     "data": {
      "text/plain": "<pandas.io.formats.style.Styler at 0x7fee7a4ce400>",
      "text/html": "<style  type=\"text/css\" >\n</style><table id=\"T_d4910400_436a_11eb_b2c8_acde48001122\" ><thead>    <tr>        <th class=\"col_heading level0 col0\" >Result</th>        <th class=\"col_heading level0 col1\" >Expected</th>        <th class=\"col_heading level0 col2\" >Actual</th>        <th class=\"col_heading level0 col3\" >Aliases</th>    </tr></thead><tbody>\n                <tr>\n                                <td id=\"T_d4910400_436a_11eb_b2c8_acde48001122row0_col0\" class=\"data row0 col0\" >SUCCESS</td>\n                        <td id=\"T_d4910400_436a_11eb_b2c8_acde48001122row0_col1\" class=\"data row0 col1\" >beach</td>\n                        <td id=\"T_d4910400_436a_11eb_b2c8_acde48001122row0_col2\" class=\"data row0 col2\" >beach</td>\n                        <td id=\"T_d4910400_436a_11eb_b2c8_acde48001122row0_col3\" class=\"data row0 col3\" >None</td>\n            </tr>\n            <tr>\n                                <td id=\"T_d4910400_436a_11eb_b2c8_acde48001122row1_col0\" class=\"data row1 col0\" >SUCCESS</td>\n                        <td id=\"T_d4910400_436a_11eb_b2c8_acde48001122row1_col1\" class=\"data row1 col1\" >beach</td>\n                        <td id=\"T_d4910400_436a_11eb_b2c8_acde48001122row1_col2\" class=\"data row1 col2\" >beach</td>\n                        <td id=\"T_d4910400_436a_11eb_b2c8_acde48001122row1_col3\" class=\"data row1 col3\" >None</td>\n            </tr>\n            <tr>\n                                <td id=\"T_d4910400_436a_11eb_b2c8_acde48001122row2_col0\" class=\"data row2 col0\" >SUCCESS</td>\n                        <td id=\"T_d4910400_436a_11eb_b2c8_acde48001122row2_col1\" class=\"data row2 col1\" >beach</td>\n                        <td id=\"T_d4910400_436a_11eb_b2c8_acde48001122row2_col2\" class=\"data row2 col2\" >beach</td>\n                        <td id=\"T_d4910400_436a_11eb_b2c8_acde48001122row2_col3\" class=\"data row2 col3\" >None</td>\n            </tr>\n            <tr>\n                                <td id=\"T_d4910400_436a_11eb_b2c8_acde48001122row3_col0\" class=\"data row3 col0\" >FAILURE</td>\n                        <td id=\"T_d4910400_436a_11eb_b2c8_acde48001122row3_col1\" class=\"data row3 col1\" >beach</td>\n                        <td id=\"T_d4910400_436a_11eb_b2c8_acde48001122row3_col2\" class=\"data row3 col2\" >sea</td>\n                        <td id=\"T_d4910400_436a_11eb_b2c8_acde48001122row3_col3\" class=\"data row3 col3\" >None</td>\n            </tr>\n            <tr>\n                                <td id=\"T_d4910400_436a_11eb_b2c8_acde48001122row4_col0\" class=\"data row4 col0\" >SUCCESS</td>\n                        <td id=\"T_d4910400_436a_11eb_b2c8_acde48001122row4_col1\" class=\"data row4 col1\" >beach</td>\n                        <td id=\"T_d4910400_436a_11eb_b2c8_acde48001122row4_col2\" class=\"data row4 col2\" >beach</td>\n                        <td id=\"T_d4910400_436a_11eb_b2c8_acde48001122row4_col3\" class=\"data row4 col3\" >None</td>\n            </tr>\n            <tr>\n                                <td id=\"T_d4910400_436a_11eb_b2c8_acde48001122row5_col0\" class=\"data row5 col0\" >SUCCESS</td>\n                        <td id=\"T_d4910400_436a_11eb_b2c8_acde48001122row5_col1\" class=\"data row5 col1\" >beach</td>\n                        <td id=\"T_d4910400_436a_11eb_b2c8_acde48001122row5_col2\" class=\"data row5 col2\" >beach</td>\n                        <td id=\"T_d4910400_436a_11eb_b2c8_acde48001122row5_col3\" class=\"data row5 col3\" >None</td>\n            </tr>\n            <tr>\n                                <td id=\"T_d4910400_436a_11eb_b2c8_acde48001122row6_col0\" class=\"data row6 col0\" >SUCCESS</td>\n                        <td id=\"T_d4910400_436a_11eb_b2c8_acde48001122row6_col1\" class=\"data row6 col1\" >beach</td>\n                        <td id=\"T_d4910400_436a_11eb_b2c8_acde48001122row6_col2\" class=\"data row6 col2\" >beach</td>\n                        <td id=\"T_d4910400_436a_11eb_b2c8_acde48001122row6_col3\" class=\"data row6 col3\" >None</td>\n            </tr>\n            <tr>\n                                <td id=\"T_d4910400_436a_11eb_b2c8_acde48001122row7_col0\" class=\"data row7 col0\" >SUCCESS</td>\n                        <td id=\"T_d4910400_436a_11eb_b2c8_acde48001122row7_col1\" class=\"data row7 col1\" >beach</td>\n                        <td id=\"T_d4910400_436a_11eb_b2c8_acde48001122row7_col2\" class=\"data row7 col2\" >beach</td>\n                        <td id=\"T_d4910400_436a_11eb_b2c8_acde48001122row7_col3\" class=\"data row7 col3\" >None</td>\n            </tr>\n            <tr>\n                                <td id=\"T_d4910400_436a_11eb_b2c8_acde48001122row8_col0\" class=\"data row8 col0\" >SUCCESS</td>\n                        <td id=\"T_d4910400_436a_11eb_b2c8_acde48001122row8_col1\" class=\"data row8 col1\" >beach</td>\n                        <td id=\"T_d4910400_436a_11eb_b2c8_acde48001122row8_col2\" class=\"data row8 col2\" >beach</td>\n                        <td id=\"T_d4910400_436a_11eb_b2c8_acde48001122row8_col3\" class=\"data row8 col3\" >None</td>\n            </tr>\n            <tr>\n                                <td id=\"T_d4910400_436a_11eb_b2c8_acde48001122row9_col0\" class=\"data row9 col0\" >SUCCESS</td>\n                        <td id=\"T_d4910400_436a_11eb_b2c8_acde48001122row9_col1\" class=\"data row9 col1\" >beach</td>\n                        <td id=\"T_d4910400_436a_11eb_b2c8_acde48001122row9_col2\" class=\"data row9 col2\" >beach</td>\n                        <td id=\"T_d4910400_436a_11eb_b2c8_acde48001122row9_col3\" class=\"data row9 col3\" >None</td>\n            </tr>\n            <tr>\n                                <td id=\"T_d4910400_436a_11eb_b2c8_acde48001122row10_col0\" class=\"data row10 col0\" >SUCCESS</td>\n                        <td id=\"T_d4910400_436a_11eb_b2c8_acde48001122row10_col1\" class=\"data row10 col1\" >beach</td>\n                        <td id=\"T_d4910400_436a_11eb_b2c8_acde48001122row10_col2\" class=\"data row10 col2\" >beach</td>\n                        <td id=\"T_d4910400_436a_11eb_b2c8_acde48001122row10_col3\" class=\"data row10 col3\" >None</td>\n            </tr>\n            <tr>\n                                <td id=\"T_d4910400_436a_11eb_b2c8_acde48001122row11_col0\" class=\"data row11 col0\" >SUCCESS</td>\n                        <td id=\"T_d4910400_436a_11eb_b2c8_acde48001122row11_col1\" class=\"data row11 col1\" >hill</td>\n                        <td id=\"T_d4910400_436a_11eb_b2c8_acde48001122row11_col2\" class=\"data row11 col2\" >hill</td>\n                        <td id=\"T_d4910400_436a_11eb_b2c8_acde48001122row11_col3\" class=\"data row11 col3\" >None</td>\n            </tr>\n            <tr>\n                                <td id=\"T_d4910400_436a_11eb_b2c8_acde48001122row12_col0\" class=\"data row12 col0\" >FAILURE</td>\n                        <td id=\"T_d4910400_436a_11eb_b2c8_acde48001122row12_col1\" class=\"data row12 col1\" >mountain</td>\n                        <td id=\"T_d4910400_436a_11eb_b2c8_acde48001122row12_col2\" class=\"data row12 col2\" >lake</td>\n                        <td id=\"T_d4910400_436a_11eb_b2c8_acde48001122row12_col3\" class=\"data row12 col3\" >None</td>\n            </tr>\n            <tr>\n                                <td id=\"T_d4910400_436a_11eb_b2c8_acde48001122row13_col0\" class=\"data row13 col0\" >SUCCESS</td>\n                        <td id=\"T_d4910400_436a_11eb_b2c8_acde48001122row13_col1\" class=\"data row13 col1\" >mountain</td>\n                        <td id=\"T_d4910400_436a_11eb_b2c8_acde48001122row13_col2\" class=\"data row13 col2\" >mountain</td>\n                        <td id=\"T_d4910400_436a_11eb_b2c8_acde48001122row13_col3\" class=\"data row13 col3\" >None</td>\n            </tr>\n            <tr>\n                                <td id=\"T_d4910400_436a_11eb_b2c8_acde48001122row14_col0\" class=\"data row14 col0\" >SUCCESS</td>\n                        <td id=\"T_d4910400_436a_11eb_b2c8_acde48001122row14_col1\" class=\"data row14 col1\" >mountain</td>\n                        <td id=\"T_d4910400_436a_11eb_b2c8_acde48001122row14_col2\" class=\"data row14 col2\" >mountain</td>\n                        <td id=\"T_d4910400_436a_11eb_b2c8_acde48001122row14_col3\" class=\"data row14 col3\" >None</td>\n            </tr>\n            <tr>\n                                <td id=\"T_d4910400_436a_11eb_b2c8_acde48001122row15_col0\" class=\"data row15 col0\" >SUCCESS</td>\n                        <td id=\"T_d4910400_436a_11eb_b2c8_acde48001122row15_col1\" class=\"data row15 col1\" >mountain</td>\n                        <td id=\"T_d4910400_436a_11eb_b2c8_acde48001122row15_col2\" class=\"data row15 col2\" >mountain</td>\n                        <td id=\"T_d4910400_436a_11eb_b2c8_acde48001122row15_col3\" class=\"data row15 col3\" >None</td>\n            </tr>\n            <tr>\n                                <td id=\"T_d4910400_436a_11eb_b2c8_acde48001122row16_col0\" class=\"data row16 col0\" >FAILURE</td>\n                        <td id=\"T_d4910400_436a_11eb_b2c8_acde48001122row16_col1\" class=\"data row16 col1\" >mountain</td>\n                        <td id=\"T_d4910400_436a_11eb_b2c8_acde48001122row16_col2\" class=\"data row16 col2\" >outskirts</td>\n                        <td id=\"T_d4910400_436a_11eb_b2c8_acde48001122row16_col3\" class=\"data row16 col3\" >None</td>\n            </tr>\n            <tr>\n                                <td id=\"T_d4910400_436a_11eb_b2c8_acde48001122row17_col0\" class=\"data row17 col0\" >FAILURE</td>\n                        <td id=\"T_d4910400_436a_11eb_b2c8_acde48001122row17_col1\" class=\"data row17 col1\" >mountain</td>\n                        <td id=\"T_d4910400_436a_11eb_b2c8_acde48001122row17_col2\" class=\"data row17 col2\" >forest</td>\n                        <td id=\"T_d4910400_436a_11eb_b2c8_acde48001122row17_col3\" class=\"data row17 col3\" >None</td>\n            </tr>\n            <tr>\n                                <td id=\"T_d4910400_436a_11eb_b2c8_acde48001122row18_col0\" class=\"data row18 col0\" >SUCCESS</td>\n                        <td id=\"T_d4910400_436a_11eb_b2c8_acde48001122row18_col1\" class=\"data row18 col1\" >mountain</td>\n                        <td id=\"T_d4910400_436a_11eb_b2c8_acde48001122row18_col2\" class=\"data row18 col2\" >mountain</td>\n                        <td id=\"T_d4910400_436a_11eb_b2c8_acde48001122row18_col3\" class=\"data row18 col3\" >None</td>\n            </tr>\n            <tr>\n                                <td id=\"T_d4910400_436a_11eb_b2c8_acde48001122row19_col0\" class=\"data row19 col0\" >FAILURE</td>\n                        <td id=\"T_d4910400_436a_11eb_b2c8_acde48001122row19_col1\" class=\"data row19 col1\" >mountain</td>\n                        <td id=\"T_d4910400_436a_11eb_b2c8_acde48001122row19_col2\" class=\"data row19 col2\" >lake</td>\n                        <td id=\"T_d4910400_436a_11eb_b2c8_acde48001122row19_col3\" class=\"data row19 col3\" >None</td>\n            </tr>\n            <tr>\n                                <td id=\"T_d4910400_436a_11eb_b2c8_acde48001122row20_col0\" class=\"data row20 col0\" >SUCCESS</td>\n                        <td id=\"T_d4910400_436a_11eb_b2c8_acde48001122row20_col1\" class=\"data row20 col1\" >mountain</td>\n                        <td id=\"T_d4910400_436a_11eb_b2c8_acde48001122row20_col2\" class=\"data row20 col2\" >mountain</td>\n                        <td id=\"T_d4910400_436a_11eb_b2c8_acde48001122row20_col3\" class=\"data row20 col3\" >None</td>\n            </tr>\n            <tr>\n                                <td id=\"T_d4910400_436a_11eb_b2c8_acde48001122row21_col0\" class=\"data row21 col0\" >FAILURE</td>\n                        <td id=\"T_d4910400_436a_11eb_b2c8_acde48001122row21_col1\" class=\"data row21 col1\" >mountain</td>\n                        <td id=\"T_d4910400_436a_11eb_b2c8_acde48001122row21_col2\" class=\"data row21 col2\" >lake</td>\n                        <td id=\"T_d4910400_436a_11eb_b2c8_acde48001122row21_col3\" class=\"data row21 col3\" >None</td>\n            </tr>\n            <tr>\n                                <td id=\"T_d4910400_436a_11eb_b2c8_acde48001122row22_col0\" class=\"data row22 col0\" >FAILURE</td>\n                        <td id=\"T_d4910400_436a_11eb_b2c8_acde48001122row22_col1\" class=\"data row22 col1\" >desert</td>\n                        <td id=\"T_d4910400_436a_11eb_b2c8_acde48001122row22_col2\" class=\"data row22 col2\" >ancient ruins</td>\n                        <td id=\"T_d4910400_436a_11eb_b2c8_acde48001122row22_col3\" class=\"data row22 col3\" >None</td>\n            </tr>\n            <tr>\n                                <td id=\"T_d4910400_436a_11eb_b2c8_acde48001122row23_col0\" class=\"data row23 col0\" >SUCCESS</td>\n                        <td id=\"T_d4910400_436a_11eb_b2c8_acde48001122row23_col1\" class=\"data row23 col1\" >desert</td>\n                        <td id=\"T_d4910400_436a_11eb_b2c8_acde48001122row23_col2\" class=\"data row23 col2\" >desert</td>\n                        <td id=\"T_d4910400_436a_11eb_b2c8_acde48001122row23_col3\" class=\"data row23 col3\" >None</td>\n            </tr>\n            <tr>\n                                <td id=\"T_d4910400_436a_11eb_b2c8_acde48001122row24_col0\" class=\"data row24 col0\" >SUCCESS</td>\n                        <td id=\"T_d4910400_436a_11eb_b2c8_acde48001122row24_col1\" class=\"data row24 col1\" >desert</td>\n                        <td id=\"T_d4910400_436a_11eb_b2c8_acde48001122row24_col2\" class=\"data row24 col2\" >desert</td>\n                        <td id=\"T_d4910400_436a_11eb_b2c8_acde48001122row24_col3\" class=\"data row24 col3\" >None</td>\n            </tr>\n            <tr>\n                                <td id=\"T_d4910400_436a_11eb_b2c8_acde48001122row25_col0\" class=\"data row25 col0\" >SUCCESS</td>\n                        <td id=\"T_d4910400_436a_11eb_b2c8_acde48001122row25_col1\" class=\"data row25 col1\" >desert</td>\n                        <td id=\"T_d4910400_436a_11eb_b2c8_acde48001122row25_col2\" class=\"data row25 col2\" >desert</td>\n                        <td id=\"T_d4910400_436a_11eb_b2c8_acde48001122row25_col3\" class=\"data row25 col3\" >None</td>\n            </tr>\n            <tr>\n                                <td id=\"T_d4910400_436a_11eb_b2c8_acde48001122row26_col0\" class=\"data row26 col0\" >SUCCESS</td>\n                        <td id=\"T_d4910400_436a_11eb_b2c8_acde48001122row26_col1\" class=\"data row26 col1\" >desert</td>\n                        <td id=\"T_d4910400_436a_11eb_b2c8_acde48001122row26_col2\" class=\"data row26 col2\" >desert</td>\n                        <td id=\"T_d4910400_436a_11eb_b2c8_acde48001122row26_col3\" class=\"data row26 col3\" >None</td>\n            </tr>\n            <tr>\n                                <td id=\"T_d4910400_436a_11eb_b2c8_acde48001122row27_col0\" class=\"data row27 col0\" >SUCCESS</td>\n                        <td id=\"T_d4910400_436a_11eb_b2c8_acde48001122row27_col1\" class=\"data row27 col1\" >sea</td>\n                        <td id=\"T_d4910400_436a_11eb_b2c8_acde48001122row27_col2\" class=\"data row27 col2\" >sea</td>\n                        <td id=\"T_d4910400_436a_11eb_b2c8_acde48001122row27_col3\" class=\"data row27 col3\" >None</td>\n            </tr>\n            <tr>\n                                <td id=\"T_d4910400_436a_11eb_b2c8_acde48001122row28_col0\" class=\"data row28 col0\" >SUCCESS</td>\n                        <td id=\"T_d4910400_436a_11eb_b2c8_acde48001122row28_col1\" class=\"data row28 col1\" >sea</td>\n                        <td id=\"T_d4910400_436a_11eb_b2c8_acde48001122row28_col2\" class=\"data row28 col2\" >sea</td>\n                        <td id=\"T_d4910400_436a_11eb_b2c8_acde48001122row28_col3\" class=\"data row28 col3\" >None</td>\n            </tr>\n            <tr>\n                                <td id=\"T_d4910400_436a_11eb_b2c8_acde48001122row29_col0\" class=\"data row29 col0\" >FAILURE</td>\n                        <td id=\"T_d4910400_436a_11eb_b2c8_acde48001122row29_col1\" class=\"data row29 col1\" >sea</td>\n                        <td id=\"T_d4910400_436a_11eb_b2c8_acde48001122row29_col2\" class=\"data row29 col2\" >beach</td>\n                        <td id=\"T_d4910400_436a_11eb_b2c8_acde48001122row29_col3\" class=\"data row29 col3\" >None</td>\n            </tr>\n            <tr>\n                                <td id=\"T_d4910400_436a_11eb_b2c8_acde48001122row30_col0\" class=\"data row30 col0\" >SUCCESS</td>\n                        <td id=\"T_d4910400_436a_11eb_b2c8_acde48001122row30_col1\" class=\"data row30 col1\" >sea</td>\n                        <td id=\"T_d4910400_436a_11eb_b2c8_acde48001122row30_col2\" class=\"data row30 col2\" >sea</td>\n                        <td id=\"T_d4910400_436a_11eb_b2c8_acde48001122row30_col3\" class=\"data row30 col3\" >None</td>\n            </tr>\n            <tr>\n                                <td id=\"T_d4910400_436a_11eb_b2c8_acde48001122row31_col0\" class=\"data row31 col0\" >FAILURE</td>\n                        <td id=\"T_d4910400_436a_11eb_b2c8_acde48001122row31_col1\" class=\"data row31 col1\" >sea</td>\n                        <td id=\"T_d4910400_436a_11eb_b2c8_acde48001122row31_col2\" class=\"data row31 col2\" >beach</td>\n                        <td id=\"T_d4910400_436a_11eb_b2c8_acde48001122row31_col3\" class=\"data row31 col3\" >None</td>\n            </tr>\n            <tr>\n                                <td id=\"T_d4910400_436a_11eb_b2c8_acde48001122row32_col0\" class=\"data row32 col0\" >SUCCESS</td>\n                        <td id=\"T_d4910400_436a_11eb_b2c8_acde48001122row32_col1\" class=\"data row32 col1\" >lake</td>\n                        <td id=\"T_d4910400_436a_11eb_b2c8_acde48001122row32_col2\" class=\"data row32 col2\" >lake</td>\n                        <td id=\"T_d4910400_436a_11eb_b2c8_acde48001122row32_col3\" class=\"data row32 col3\" >None</td>\n            </tr>\n            <tr>\n                                <td id=\"T_d4910400_436a_11eb_b2c8_acde48001122row33_col0\" class=\"data row33 col0\" >SUCCESS</td>\n                        <td id=\"T_d4910400_436a_11eb_b2c8_acde48001122row33_col1\" class=\"data row33 col1\" >lake</td>\n                        <td id=\"T_d4910400_436a_11eb_b2c8_acde48001122row33_col2\" class=\"data row33 col2\" >lake</td>\n                        <td id=\"T_d4910400_436a_11eb_b2c8_acde48001122row33_col3\" class=\"data row33 col3\" >None</td>\n            </tr>\n            <tr>\n                                <td id=\"T_d4910400_436a_11eb_b2c8_acde48001122row34_col0\" class=\"data row34 col0\" >SUCCESS</td>\n                        <td id=\"T_d4910400_436a_11eb_b2c8_acde48001122row34_col1\" class=\"data row34 col1\" >lake</td>\n                        <td id=\"T_d4910400_436a_11eb_b2c8_acde48001122row34_col2\" class=\"data row34 col2\" >lake</td>\n                        <td id=\"T_d4910400_436a_11eb_b2c8_acde48001122row34_col3\" class=\"data row34 col3\" >None</td>\n            </tr>\n            <tr>\n                                <td id=\"T_d4910400_436a_11eb_b2c8_acde48001122row35_col0\" class=\"data row35 col0\" >SUCCESS</td>\n                        <td id=\"T_d4910400_436a_11eb_b2c8_acde48001122row35_col1\" class=\"data row35 col1\" >lake</td>\n                        <td id=\"T_d4910400_436a_11eb_b2c8_acde48001122row35_col2\" class=\"data row35 col2\" >lake</td>\n                        <td id=\"T_d4910400_436a_11eb_b2c8_acde48001122row35_col3\" class=\"data row35 col3\" >None</td>\n            </tr>\n            <tr>\n                                <td id=\"T_d4910400_436a_11eb_b2c8_acde48001122row36_col0\" class=\"data row36 col0\" >SUCCESS</td>\n                        <td id=\"T_d4910400_436a_11eb_b2c8_acde48001122row36_col1\" class=\"data row36 col1\" >lake</td>\n                        <td id=\"T_d4910400_436a_11eb_b2c8_acde48001122row36_col2\" class=\"data row36 col2\" >lake</td>\n                        <td id=\"T_d4910400_436a_11eb_b2c8_acde48001122row36_col3\" class=\"data row36 col3\" >None</td>\n            </tr>\n            <tr>\n                                <td id=\"T_d4910400_436a_11eb_b2c8_acde48001122row37_col0\" class=\"data row37 col0\" >SUCCESS</td>\n                        <td id=\"T_d4910400_436a_11eb_b2c8_acde48001122row37_col1\" class=\"data row37 col1\" >forest</td>\n                        <td id=\"T_d4910400_436a_11eb_b2c8_acde48001122row37_col2\" class=\"data row37 col2\" >forest</td>\n                        <td id=\"T_d4910400_436a_11eb_b2c8_acde48001122row37_col3\" class=\"data row37 col3\" >None</td>\n            </tr>\n            <tr>\n                                <td id=\"T_d4910400_436a_11eb_b2c8_acde48001122row38_col0\" class=\"data row38 col0\" >SUCCESS</td>\n                        <td id=\"T_d4910400_436a_11eb_b2c8_acde48001122row38_col1\" class=\"data row38 col1\" >forest</td>\n                        <td id=\"T_d4910400_436a_11eb_b2c8_acde48001122row38_col2\" class=\"data row38 col2\" >forest</td>\n                        <td id=\"T_d4910400_436a_11eb_b2c8_acde48001122row38_col3\" class=\"data row38 col3\" >None</td>\n            </tr>\n            <tr>\n                                <td id=\"T_d4910400_436a_11eb_b2c8_acde48001122row39_col0\" class=\"data row39 col0\" >FAILURE</td>\n                        <td id=\"T_d4910400_436a_11eb_b2c8_acde48001122row39_col1\" class=\"data row39 col1\" >forest</td>\n                        <td id=\"T_d4910400_436a_11eb_b2c8_acde48001122row39_col2\" class=\"data row39 col2\" >tropics</td>\n                        <td id=\"T_d4910400_436a_11eb_b2c8_acde48001122row39_col3\" class=\"data row39 col3\" >None</td>\n            </tr>\n            <tr>\n                                <td id=\"T_d4910400_436a_11eb_b2c8_acde48001122row40_col0\" class=\"data row40 col0\" >SUCCESS</td>\n                        <td id=\"T_d4910400_436a_11eb_b2c8_acde48001122row40_col1\" class=\"data row40 col1\" >city</td>\n                        <td id=\"T_d4910400_436a_11eb_b2c8_acde48001122row40_col2\" class=\"data row40 col2\" >city</td>\n                        <td id=\"T_d4910400_436a_11eb_b2c8_acde48001122row40_col3\" class=\"data row40 col3\" >None</td>\n            </tr>\n            <tr>\n                                <td id=\"T_d4910400_436a_11eb_b2c8_acde48001122row41_col0\" class=\"data row41 col0\" >SUCCESS</td>\n                        <td id=\"T_d4910400_436a_11eb_b2c8_acde48001122row41_col1\" class=\"data row41 col1\" >city</td>\n                        <td id=\"T_d4910400_436a_11eb_b2c8_acde48001122row41_col2\" class=\"data row41 col2\" >city</td>\n                        <td id=\"T_d4910400_436a_11eb_b2c8_acde48001122row41_col3\" class=\"data row41 col3\" >None</td>\n            </tr>\n            <tr>\n                                <td id=\"T_d4910400_436a_11eb_b2c8_acde48001122row42_col0\" class=\"data row42 col0\" >SUCCESS</td>\n                        <td id=\"T_d4910400_436a_11eb_b2c8_acde48001122row42_col1\" class=\"data row42 col1\" >city</td>\n                        <td id=\"T_d4910400_436a_11eb_b2c8_acde48001122row42_col2\" class=\"data row42 col2\" >city</td>\n                        <td id=\"T_d4910400_436a_11eb_b2c8_acde48001122row42_col3\" class=\"data row42 col3\" >None</td>\n            </tr>\n            <tr>\n                                <td id=\"T_d4910400_436a_11eb_b2c8_acde48001122row43_col0\" class=\"data row43 col0\" >SUCCESS</td>\n                        <td id=\"T_d4910400_436a_11eb_b2c8_acde48001122row43_col1\" class=\"data row43 col1\" >city</td>\n                        <td id=\"T_d4910400_436a_11eb_b2c8_acde48001122row43_col2\" class=\"data row43 col2\" >city</td>\n                        <td id=\"T_d4910400_436a_11eb_b2c8_acde48001122row43_col3\" class=\"data row43 col3\" >None</td>\n            </tr>\n            <tr>\n                                <td id=\"T_d4910400_436a_11eb_b2c8_acde48001122row44_col0\" class=\"data row44 col0\" >SUCCESS</td>\n                        <td id=\"T_d4910400_436a_11eb_b2c8_acde48001122row44_col1\" class=\"data row44 col1\" >city</td>\n                        <td id=\"T_d4910400_436a_11eb_b2c8_acde48001122row44_col2\" class=\"data row44 col2\" >city</td>\n                        <td id=\"T_d4910400_436a_11eb_b2c8_acde48001122row44_col3\" class=\"data row44 col3\" >None</td>\n            </tr>\n            <tr>\n                                <td id=\"T_d4910400_436a_11eb_b2c8_acde48001122row45_col0\" class=\"data row45 col0\" >SUCCESS</td>\n                        <td id=\"T_d4910400_436a_11eb_b2c8_acde48001122row45_col1\" class=\"data row45 col1\" >city</td>\n                        <td id=\"T_d4910400_436a_11eb_b2c8_acde48001122row45_col2\" class=\"data row45 col2\" >city</td>\n                        <td id=\"T_d4910400_436a_11eb_b2c8_acde48001122row45_col3\" class=\"data row45 col3\" >None</td>\n            </tr>\n            <tr>\n                                <td id=\"T_d4910400_436a_11eb_b2c8_acde48001122row46_col0\" class=\"data row46 col0\" >SUCCESS</td>\n                        <td id=\"T_d4910400_436a_11eb_b2c8_acde48001122row46_col1\" class=\"data row46 col1\" >city</td>\n                        <td id=\"T_d4910400_436a_11eb_b2c8_acde48001122row46_col2\" class=\"data row46 col2\" >city</td>\n                        <td id=\"T_d4910400_436a_11eb_b2c8_acde48001122row46_col3\" class=\"data row46 col3\" >None</td>\n            </tr>\n            <tr>\n                                <td id=\"T_d4910400_436a_11eb_b2c8_acde48001122row47_col0\" class=\"data row47 col0\" >SUCCESS</td>\n                        <td id=\"T_d4910400_436a_11eb_b2c8_acde48001122row47_col1\" class=\"data row47 col1\" >city</td>\n                        <td id=\"T_d4910400_436a_11eb_b2c8_acde48001122row47_col2\" class=\"data row47 col2\" >city</td>\n                        <td id=\"T_d4910400_436a_11eb_b2c8_acde48001122row47_col3\" class=\"data row47 col3\" >None</td>\n            </tr>\n            <tr>\n                                <td id=\"T_d4910400_436a_11eb_b2c8_acde48001122row48_col0\" class=\"data row48 col0\" >SUCCESS</td>\n                        <td id=\"T_d4910400_436a_11eb_b2c8_acde48001122row48_col1\" class=\"data row48 col1\" >city</td>\n                        <td id=\"T_d4910400_436a_11eb_b2c8_acde48001122row48_col2\" class=\"data row48 col2\" >city</td>\n                        <td id=\"T_d4910400_436a_11eb_b2c8_acde48001122row48_col3\" class=\"data row48 col3\" >None</td>\n            </tr>\n            <tr>\n                                <td id=\"T_d4910400_436a_11eb_b2c8_acde48001122row49_col0\" class=\"data row49 col0\" >SUCCESS</td>\n                        <td id=\"T_d4910400_436a_11eb_b2c8_acde48001122row49_col1\" class=\"data row49 col1\" >city</td>\n                        <td id=\"T_d4910400_436a_11eb_b2c8_acde48001122row49_col2\" class=\"data row49 col2\" >city</td>\n                        <td id=\"T_d4910400_436a_11eb_b2c8_acde48001122row49_col3\" class=\"data row49 col3\" >None</td>\n            </tr>\n            <tr>\n                                <td id=\"T_d4910400_436a_11eb_b2c8_acde48001122row50_col0\" class=\"data row50 col0\" >FAILURE</td>\n                        <td id=\"T_d4910400_436a_11eb_b2c8_acde48001122row50_col1\" class=\"data row50 col1\" >city</td>\n                        <td id=\"T_d4910400_436a_11eb_b2c8_acde48001122row50_col2\" class=\"data row50 col2\" >valley</td>\n                        <td id=\"T_d4910400_436a_11eb_b2c8_acde48001122row50_col3\" class=\"data row50 col3\" >None</td>\n            </tr>\n            <tr>\n                                <td id=\"T_d4910400_436a_11eb_b2c8_acde48001122row51_col0\" class=\"data row51 col0\" >SUCCESS</td>\n                        <td id=\"T_d4910400_436a_11eb_b2c8_acde48001122row51_col1\" class=\"data row51 col1\" >city</td>\n                        <td id=\"T_d4910400_436a_11eb_b2c8_acde48001122row51_col2\" class=\"data row51 col2\" >city</td>\n                        <td id=\"T_d4910400_436a_11eb_b2c8_acde48001122row51_col3\" class=\"data row51 col3\" >None</td>\n            </tr>\n            <tr>\n                                <td id=\"T_d4910400_436a_11eb_b2c8_acde48001122row52_col0\" class=\"data row52 col0\" >SUCCESS</td>\n                        <td id=\"T_d4910400_436a_11eb_b2c8_acde48001122row52_col1\" class=\"data row52 col1\" >lake</td>\n                        <td id=\"T_d4910400_436a_11eb_b2c8_acde48001122row52_col2\" class=\"data row52 col2\" >lake</td>\n                        <td id=\"T_d4910400_436a_11eb_b2c8_acde48001122row52_col3\" class=\"data row52 col3\" >None</td>\n            </tr>\n            <tr>\n                                <td id=\"T_d4910400_436a_11eb_b2c8_acde48001122row53_col0\" class=\"data row53 col0\" >FAILURE</td>\n                        <td id=\"T_d4910400_436a_11eb_b2c8_acde48001122row53_col1\" class=\"data row53 col1\" >lake</td>\n                        <td id=\"T_d4910400_436a_11eb_b2c8_acde48001122row53_col2\" class=\"data row53 col2\" >sea</td>\n                        <td id=\"T_d4910400_436a_11eb_b2c8_acde48001122row53_col3\" class=\"data row53 col3\" >None</td>\n            </tr>\n            <tr>\n                                <td id=\"T_d4910400_436a_11eb_b2c8_acde48001122row54_col0\" class=\"data row54 col0\" >SUCCESS</td>\n                        <td id=\"T_d4910400_436a_11eb_b2c8_acde48001122row54_col1\" class=\"data row54 col1\" >desert</td>\n                        <td id=\"T_d4910400_436a_11eb_b2c8_acde48001122row54_col2\" class=\"data row54 col2\" >desert</td>\n                        <td id=\"T_d4910400_436a_11eb_b2c8_acde48001122row54_col3\" class=\"data row54 col3\" >None</td>\n            </tr>\n            <tr>\n                                <td id=\"T_d4910400_436a_11eb_b2c8_acde48001122row55_col0\" class=\"data row55 col0\" >FAILURE</td>\n                        <td id=\"T_d4910400_436a_11eb_b2c8_acde48001122row55_col1\" class=\"data row55 col1\" >city</td>\n                        <td id=\"T_d4910400_436a_11eb_b2c8_acde48001122row55_col2\" class=\"data row55 col2\" >valley</td>\n                        <td id=\"T_d4910400_436a_11eb_b2c8_acde48001122row55_col3\" class=\"data row55 col3\" >None</td>\n            </tr>\n            <tr>\n                                <td id=\"T_d4910400_436a_11eb_b2c8_acde48001122row56_col0\" class=\"data row56 col0\" >FAILURE</td>\n                        <td id=\"T_d4910400_436a_11eb_b2c8_acde48001122row56_col1\" class=\"data row56 col1\" >sea</td>\n                        <td id=\"T_d4910400_436a_11eb_b2c8_acde48001122row56_col2\" class=\"data row56 col2\" >tropics</td>\n                        <td id=\"T_d4910400_436a_11eb_b2c8_acde48001122row56_col3\" class=\"data row56 col3\" >None</td>\n            </tr>\n            <tr>\n                                <td id=\"T_d4910400_436a_11eb_b2c8_acde48001122row57_col0\" class=\"data row57 col0\" >FAILURE</td>\n                        <td id=\"T_d4910400_436a_11eb_b2c8_acde48001122row57_col1\" class=\"data row57 col1\" >city</td>\n                        <td id=\"T_d4910400_436a_11eb_b2c8_acde48001122row57_col2\" class=\"data row57 col2\" >highway</td>\n                        <td id=\"T_d4910400_436a_11eb_b2c8_acde48001122row57_col3\" class=\"data row57 col3\" >None</td>\n            </tr>\n            <tr>\n                                <td id=\"T_d4910400_436a_11eb_b2c8_acde48001122row58_col0\" class=\"data row58 col0\" >SUCCESS</td>\n                        <td id=\"T_d4910400_436a_11eb_b2c8_acde48001122row58_col1\" class=\"data row58 col1\" >mountain</td>\n                        <td id=\"T_d4910400_436a_11eb_b2c8_acde48001122row58_col2\" class=\"data row58 col2\" >mountain</td>\n                        <td id=\"T_d4910400_436a_11eb_b2c8_acde48001122row58_col3\" class=\"data row58 col3\" >None</td>\n            </tr>\n    </tbody></table>"
     },
     "execution_count": 47,
     "metadata": {},
     "output_type": "execute_result"
    }
   ],
   "source": [
    "statuses = []\n",
    "relevance = []\n",
    "predicted = []\n",
    "\n",
    "embedding_distributor = launch.load_local_embedding_distributor(best_model)\n",
    "pos_tagger = launch.load_local_corenlp_pos_tagger()\n",
    "\n",
    "for (text, y_true) in tqdm(zip(X, y)):\n",
    "    kp = launch.extract_keyphrases(embedding_distributor, pos_tagger, text, 5, 'en')\n",
    "    y_pred = kp[0][0]\n",
    "    predicted.append(y_pred)\n",
    "    if y_true == y_pred:\n",
    "        statuses.append('SUCCESS')\n",
    "        relevance.append(None)\n",
    "    elif kp[2].count(y_true) > 0:\n",
    "        statuses.append('SUCCESS IN ALIAS')\n",
    "        relevance.append(zip(kp[2], kp[1]))\n",
    "    else:\n",
    "        statuses.append('FAILURE')\n",
    "        relevance.append(None)\n",
    "\n",
    "\n",
    "data = { 'Result': statuses,\n",
    "         'Expected': y,\n",
    "         'Actual': predicted,\n",
    "         'Aliases': relevance\n",
    "         }\n",
    "\n",
    "df = pd.DataFrame(data, columns=['Result', 'Expected', 'Actual', 'Aliases'])\n",
    "df.style.hide_index()"
   ],
   "metadata": {
    "collapsed": false,
    "pycharm": {
     "name": "#%%\n"
    }
   }
  }
 ],
 "metadata": {
  "kernelspec": {
   "display_name": "Python 3",
   "language": "python",
   "name": "python3"
  },
  "language_info": {
   "codemirror_mode": {
    "name": "ipython",
    "version": 2
   },
   "file_extension": ".py",
   "mimetype": "text/x-python",
   "name": "python",
   "nbconvert_exporter": "python",
   "pygments_lexer": "ipython2",
   "version": "2.7.6"
  }
 },
 "nbformat": 4,
 "nbformat_minor": 0
}