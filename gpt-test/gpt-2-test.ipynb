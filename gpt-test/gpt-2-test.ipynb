{
 "cells": [
  {
   "cell_type": "code",
   "execution_count": 28,
   "metadata": {
    "collapsed": true
   },
   "outputs": [],
   "source": [
    "import sys\n",
    "import pandas as pd\n",
    "from  random import randint\n",
    "sys.path.append(\"..\")\n",
    "from next_word_prediction import GPT2\n",
    "from sklearn.metrics import accuracy_score\n",
    "from IPython.display import clear_output\n",
    "clear_output(wait=True)"
   ]
  },
  {
   "cell_type": "code",
   "execution_count": 29,
   "outputs": [],
   "source": [
    "gpt2 = GPT2()"
   ],
   "metadata": {
    "collapsed": false,
    "pycharm": {
     "name": "#%%\n"
    }
   }
  },
  {
   "cell_type": "code",
   "execution_count": 30,
   "outputs": [],
   "source": [
    "data_base = pd.read_csv('../swiss-test/data/COCO-locations-test-20.csv')"
   ],
   "metadata": {
    "collapsed": false,
    "pycharm": {
     "name": "#%%\n"
    }
   }
  },
  {
   "cell_type": "code",
   "execution_count": 31,
   "outputs": [],
   "source": [
    "after_sentences = [ ' All this happens in the ', ' It was great time in the ', ' Hope to see again this ', ' This place is located in the ']"
   ],
   "metadata": {
    "collapsed": false,
    "pycharm": {
     "name": "#%%\n"
    }
   }
  },
  {
   "cell_type": "code",
   "execution_count": 32,
   "outputs": [],
   "source": [
    "un_X = data_base['cap']\n",
    "un_y = data_base['location']\n",
    "un_y = list(map(lambda array_str: array_str[1:-1].split(', '), un_y))\n",
    "un_y = list(map(lambda array: list(map(lambda str: str[1:-1], array)), un_y))\n",
    "\n",
    "X_base = []\n",
    "y_base = []\n",
    "\n",
    "for text, label_array in list(zip(un_X, un_y)):\n",
    "    for label in label_array:\n",
    "        X_base.append(text)\n",
    "        y_base.append(label)\n",
    "\n",
    "X_base = list(map(lambda text: text + after_sentences[randint(0, len(after_sentences) - 1)], X_base))"
   ],
   "metadata": {
    "collapsed": false,
    "pycharm": {
     "name": "#%%\n"
    }
   }
  },
  {
   "cell_type": "code",
   "execution_count": 33,
   "outputs": [],
   "source": [
    "def get_random_sentences(sentences, n=3):\n",
    "    result = []\n",
    "    for _ in range(n):\n",
    "        result.append(sentences[randint(0, len(sentences) - 1)])\n",
    "    return result\n",
    "\n",
    "def predict(y_true, y_pred):\n",
    "    result = []\n",
    "    for y_t, y_p in list(zip(y_true, y_pred)):\n",
    "        if y_t in y_p:\n",
    "            result.append(y_t)\n",
    "        else:\n",
    "            result.append(y_p[0])\n",
    "    return result\n",
    "\n",
    "\n",
    "def predict_next_words(text, n=10):\n",
    "    return gpt2.predict_next(text, n)\n",
    "\n",
    "def predict_words(sentences, n=10):\n",
    "    return list(map(lambda text: gpt2.predict_next(text, n), sentences))"
   ],
   "metadata": {
    "collapsed": false,
    "pycharm": {
     "name": "#%%\n"
    }
   }
  },
  {
   "cell_type": "code",
   "execution_count": 34,
   "outputs": [],
   "source": [
    "base_random = get_random_sentences(list(zip(X_base, y_base)))"
   ],
   "metadata": {
    "collapsed": false,
    "pycharm": {
     "name": "#%%\n"
    }
   }
  },
  {
   "cell_type": "code",
   "execution_count": 35,
   "outputs": [
    {
     "name": "stdout",
     "output_type": "stream",
     "text": [
      "Original text: Two girls sit by the fence and watch the sun go down over the mountains. This place is located in the \n",
      "True location: mountain\n",
      "Predicted locations: ['middle', 'mountains', 'heart', 'center', 'footh', 'northern', 'southern', 'city', 'desert', 'same']\n",
      "Prediction success: False\n",
      "========================================\n",
      "Original text: The moon rose over the city by the sea. Hope to see again this \n",
      "True location: sea\n",
      "Predicted locations: ['time', 'year', 'day', 'evening', 'morning', 'night', 'summer', 'afternoon', 'week', 'spring']\n",
      "Prediction success: False\n",
      "========================================\n",
      "Original text: Several young guys run along the beach to swim in the sea. Hope to see again this \n",
      "True location: beach\n",
      "Predicted locations: ['summer', 'year', 'weekend', 'week', 'time', 'spring', 'fall', 'season', 'morning', 'winter']\n",
      "Prediction success: False\n",
      "========================================\n"
     ]
    }
   ],
   "source": [
    "for (X_i_base, y_i_base) in base_random:\n",
    "    predicted_words = predict_next_words(X_i_base)\n",
    "    print('Original text: {}'.format(X_i_base))\n",
    "    print('True location: {}'.format(y_i_base))\n",
    "    print('Predicted locations: {}'.format(predicted_words))\n",
    "    print('Prediction success: {}'.format(y_i_base in predicted_words))\n",
    "    print('=' * 40)\n"
   ],
   "metadata": {
    "collapsed": false,
    "pycharm": {
     "name": "#%%\n"
    }
   }
  },
  {
   "cell_type": "code",
   "execution_count": 36,
   "outputs": [
    {
     "name": "stdout",
     "output_type": "stream",
     "text": [
      "Accuracy for sentences with location: 24%\n"
     ]
    }
   ],
   "source": [
    "score = accuracy_score(y_true=y_base, y_pred=predict(y_base, predict_words(X_base)))\n",
    "accuracy = '{}%'.format(int(100. * score))\n",
    "\n",
    "print('Accuracy for sentences with location: {}'.format(accuracy))"
   ],
   "metadata": {
    "collapsed": false,
    "pycharm": {
     "name": "#%%\n"
    }
   }
  }
 ],
 "metadata": {
  "kernelspec": {
   "name": "python3",
   "language": "python",
   "display_name": "Python 3"
  },
  "language_info": {
   "codemirror_mode": {
    "name": "ipython",
    "version": 2
   },
   "file_extension": ".py",
   "mimetype": "text/x-python",
   "name": "python",
   "nbconvert_exporter": "python",
   "pygments_lexer": "ipython2",
   "version": "2.7.6"
  }
 },
 "nbformat": 4,
 "nbformat_minor": 0
}