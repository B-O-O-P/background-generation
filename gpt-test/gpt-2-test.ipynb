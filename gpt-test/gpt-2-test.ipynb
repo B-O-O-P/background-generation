{
 "cells": [
  {
   "cell_type": "code",
   "execution_count": 99,
   "metadata": {
    "collapsed": true
   },
   "outputs": [],
   "source": [
    "import sys\n",
    "import pandas as pd\n",
    "from  random import randint\n",
    "sys.path.append(\"..\")\n",
    "from next_word_prediction import GPT2\n",
    "from gpt_2.src.interactive_conditional_samples import interact_model\n",
    "from sklearn.metrics import accuracy_score\n",
    "from IPython.display import clear_output\n",
    "clear_output(wait=True)"
   ]
  },
  {
   "cell_type": "code",
   "execution_count": 100,
   "outputs": [],
   "source": [
    "gpt2 = GPT2()"
   ],
   "metadata": {
    "collapsed": false,
    "pycharm": {
     "name": "#%%\n"
    }
   }
  },
  {
   "cell_type": "code",
   "execution_count": 101,
   "outputs": [],
   "source": [
    "data_base = pd.read_csv('../swiss-test/data/dataset_base.csv')\n",
    "\n",
    "data_no_location = pd.read_csv('../swiss-test/data/dataset_no_location.csv')"
   ],
   "metadata": {
    "collapsed": false,
    "pycharm": {
     "name": "#%%\n"
    }
   }
  },
  {
   "cell_type": "code",
   "execution_count": 102,
   "outputs": [],
   "source": [
    "after_sentences = [ ' All this happens in the ', ' It was great time in the ', ' Hope to see again this ', ' This place is located in the ']"
   ],
   "metadata": {
    "collapsed": false,
    "pycharm": {
     "name": "#%%\n"
    }
   }
  },
  {
   "cell_type": "code",
   "execution_count": 103,
   "outputs": [],
   "source": [
    "X_base = data_base['text']\n",
    "X_base = list(map(lambda text: text + after_sentences[randint(0, len(after_sentences) - 1)], X_base))\n",
    "y_base = data_base['loc'].astype(str)\n",
    "\n",
    "X_no = data_no_location['text']\n",
    "X_no = list(map(lambda text: text + after_sentences[randint(0, len(after_sentences) - 1)], X_no))\n",
    "y_no = data_no_location['loc'].astype(str)"
   ],
   "metadata": {
    "collapsed": false,
    "pycharm": {
     "name": "#%%\n"
    }
   }
  },
  {
   "cell_type": "code",
   "execution_count": 104,
   "outputs": [],
   "source": [
    "def get_random_sentences(sentences, n=3):\n",
    "    result = []\n",
    "    for _ in range(n):\n",
    "        result.append(sentences[randint(0, len(sentences) - 1)])\n",
    "    return result\n",
    "\n",
    "def predict(y_true, y_pred):\n",
    "    result = []\n",
    "    for y_t, y_p in list(zip(y_true, y_pred)):\n",
    "        if y_t in y_p:\n",
    "            result.append(y_t)\n",
    "        else:\n",
    "            result.append(y_p[0])\n",
    "    return result"
   ],
   "metadata": {
    "collapsed": false,
    "pycharm": {
     "name": "#%%\n"
    }
   }
  },
  {
   "cell_type": "code",
   "execution_count": 105,
   "outputs": [],
   "source": [
    "def generate_sentences(sentences):\n",
    "    generated = []\n",
    "    for _ in range(len(sentences)):\n",
    "        generated.append(interact_model(raw_text=sentences))\n",
    "    return generated\n",
    "\n",
    "def predict_next_words(text, n=10):\n",
    "    return gpt2.predict_next(text, n)\n",
    "\n",
    "def predict_words(sentences, n=10):\n",
    "    return list(map(lambda text: gpt2.predict_next(text, n), sentences))"
   ],
   "metadata": {
    "collapsed": false,
    "pycharm": {
     "name": "#%%\n"
    }
   }
  },
  {
   "cell_type": "code",
   "execution_count": 106,
   "outputs": [],
   "source": [
    "base_random = get_random_sentences(list(zip(X_base, y_base)))\n",
    "no_random = get_random_sentences(list(zip(X_no, y_no)))"
   ],
   "metadata": {
    "collapsed": false,
    "pycharm": {
     "name": "#%%\n"
    }
   }
  },
  {
   "cell_type": "code",
   "execution_count": 107,
   "outputs": [
    {
     "name": "stdout",
     "output_type": "stream",
     "text": [
      "Original text: Never was their a picture as enchanting as the ever-evolving sea. All this happens in the \n",
      "True location: sea\n",
      "Predicted locations: ['same', 'midst', 'course', 'middle', 'face', 'form', 'ocean', 'name', 'wake', 'world']\n",
      "Prediction success: False\n",
      "========================================\n",
      "Original text: The buildings galloped up the clouds and they had entire floors dedicated to play. There were slides to go down several floors at a time, they had elevators too but fun was thought so important that those were added too.  Hope to see again this \n",
      "True location: modern building\n",
      "Predicted locations: ['year', 'summer', 'weekend', 'week', 'time', 'fall', 'afternoon', 'evening', 'season', 'morning']\n",
      "Prediction success: False\n",
      "========================================\n",
      "Original text: The city was a vast, intricate, labyrinth of noisy, streets and alleys. You could hear the incessant honking of the vehicles even before the sun rose. Impatient businessmen who had to get to the office, mothers who had to leave their children at their schools, facing the puzzling challenge of navigating through the crowd of parents and children; even some of the teachers who had stopped at the local bakery to get a bagel or two before their morning classes. This place is located in the \n",
      "True location: city\n",
      "Predicted locations: ['heart', 'middle', 'center', 'city', 'centre', 'midst', 'very', 'shadow', 'same', 'central']\n",
      "Prediction success: True\n",
      "========================================\n"
     ]
    }
   ],
   "source": [
    "for (X_i_base, y_i_base) in base_random:\n",
    "    predicted_words = predict_next_words(X_i_base)\n",
    "    print('Original text: {}'.format(X_i_base))\n",
    "    print('True location: {}'.format(y_i_base))\n",
    "    print('Predicted locations: {}'.format(predicted_words))\n",
    "    print('Prediction success: {}'.format(y_i_base in predicted_words))\n",
    "    print('=' * 40)"
   ],
   "metadata": {
    "collapsed": false,
    "pycharm": {
     "name": "#%%\n"
    }
   }
  },
  {
   "cell_type": "code",
   "execution_count": 108,
   "outputs": [
    {
     "name": "stdout",
     "output_type": "stream",
     "text": [
      "Original text: Upon this primrose sand, the hue as gentle on the eye as a vintage photograph, there is a steady warmth from the grains. Already the stars glow as if they have kept a pocket of the daytime to shine all through the night sky. Sometimes I think the earth and the moon choose to give of their borrowed warmth and light until the return of the sun, the brilliance forever promised at dawn.  This place is located in the \n",
      "True location: beach\n",
      "Predicted locations: ['middle', 'heart', 'center', 'footh', 'midst', 'northern', 'southern', 'mountains', 'beautiful', 'shadow']\n",
      "Prediction success: False\n",
      "========================================\n",
      "Original text: Her eyes began to water as a wind whipped the hair across her face. When she looked down at the dizzying drop, nothing met her gaze but flat clouds, hiding the treasure of their landscape below. All this happens in the \n",
      "True location: mountain\n",
      "Predicted locations: ['same', 'blink', 'middle', 'night', 'dark', 'midst', 'distance', 'moment', 'background', 'world']\n",
      "Prediction success: False\n",
      "========================================\n",
      "Original text: Her eyes began to water as a wind whipped the hair across her face. When she looked down at the dizzying drop, nothing met her gaze but flat clouds, hiding the treasure of their landscape below. All this happens in the \n",
      "True location: mountain\n",
      "Predicted locations: ['same', 'blink', 'middle', 'night', 'dark', 'midst', 'distance', 'moment', 'background', 'world']\n",
      "Prediction success: False\n",
      "========================================\n"
     ]
    }
   ],
   "source": [
    "for (X_i_no, y_i_no) in no_random:\n",
    "    predicted_words = predict_next_words(X_i_no)\n",
    "    print('Original text: {}'.format(X_i_no))\n",
    "    print('True location: {}'.format(y_i_no))\n",
    "    print('Predicted locations: {}'.format(predicted_words))\n",
    "    print('Prediction success: {}'.format(y_i_no in predicted_words))\n",
    "    print('=' * 40)"
   ],
   "metadata": {
    "collapsed": false,
    "pycharm": {
     "name": "#%%\n"
    }
   }
  },
  {
   "cell_type": "code",
   "execution_count": 109,
   "outputs": [
    {
     "name": "stdout",
     "output_type": "stream",
     "text": [
      "Accuracy for sentences with location: 28%\n",
      "Accuracy for sentences without location: 11%\n"
     ]
    }
   ],
   "source": [
    "score = accuracy_score(y_true=y_base, y_pred=predict(y_base, predict_words(X_base)))\n",
    "accuracy = '{}%'.format(int(100. * score))\n",
    "\n",
    "print('Accuracy for sentences with location: {}'.format(accuracy))\n",
    "\n",
    "score = accuracy_score(y_true=y_no, y_pred=predict(y_no, predict_words(X_no)))\n",
    "accuracy = '{}%'.format(int(100. * score))\n",
    "\n",
    "print('Accuracy for sentences without location: {}'.format(accuracy))"
   ],
   "metadata": {
    "collapsed": false,
    "pycharm": {
     "name": "#%%\n"
    }
   }
  },
  {
   "cell_type": "code",
   "execution_count": 110,
   "outputs": [
    {
     "name": "stdout",
     "output_type": "stream",
     "text": [
      "Original text: Never was their a picture as enchanting as the ever-evolving sea. All this happens in the \n",
      "True location: sea\n",
      "Full predicted text: \n",
      "Never was their a picture as enchanting as the ever-evolving sea. All this happens in the  vernacular. I suspect everything that means or means is already being written in that language, but if we will plead against the world's antagonist, then our world must have its day. Don't forget to side with humanity, and even give people to your cause. Ask for the justice that backs you on what is reckoned already fifteen billion years, and it will come. If we don't do this, nationalism isn't going to be for our harms. Listening to Occupy California, I could hear Twin Peaks and critics of Israel talking in tongues.\n",
      "\n",
      "NEAR THESE STRIVE OR NOT:\n",
      "\n",
      "As you can see from Seattleites, people are also saying I am arrogant, unrestrained, unqualified for world leadership. I am no Army officer, I passed 119 attempts, I wear an expensive baseball cap and star embroidered ankle shorn horn. So why should anyone be rewarded for their unbridled hypocrisy and ignorance?\n",
      "\n",
      "Ignorance is wearing high heels. The demonstrations in New Orleans are a sign of a problem. If every Indian American had it his own way, he would be begging to see Black Lives Matter. I don't care. It makes his day.\n",
      "\n",
      "Help defend your developed nation from oppression, to maintain a \"scientific\" literacy from the No Minds movement, to take control over the war machine from FWD Ittee Hillfu (The Great Bend, spokesperson for the Nation of Islam).<|endoftext|>Commonly used hashtags are created in Google geographies to encourage users to comment on organic content as opposed to bots that stole the data for the service. They allow various members of the audience to react online exactly the same way. Thus, Google, from collarto beatnik in order, has taken the initiative to stop the wackiest engineers who broke Google it seems every day. This means that every single engineers in the #moreawesomeboard started by voat wants to shut down more humans.\n",
      "\n",
      "SEE ALSO - Letterto johnNYC actress in salacious moment famously storms over Dez Noir\n",
      "\n",
      "Why are many middle managers afraid of telling all these hacks they were lives best followed by SO MANY other parents of employees? We put together a guide to instilling self confidence.\n",
      "\n",
      "NordVPN - \"The Bilderberg Group is preparing a poison pill warfor everyone\", Read: Wikileaks Hacker reports how to exploit it for setup\n",
      "\n",
      "Finding out the secret diary EVERYONE took of other people has been discussed in my recent post, especially during what he calls Daisy's\n",
      "========================================\n",
      "Original text: The buildings galloped up the clouds and they had entire floors dedicated to play. There were slides to go down several floors at a time, they had elevators too but fun was thought so important that those were added too.  Hope to see again this \n",
      "True location: modern building\n",
      "Full predicted text: \n",
      "The buildings galloped up the clouds and they had entire floors dedicated to play. There were slides to go down several floors at a time, they had elevators too but fun was thought so important that those were added too.  Hope to see again this  As for sandwich bars in Sports Score, we thought that it would be nice if they showed Kitcheny over __________.  But it is delivered on periodically. (Judge Rob won't yet bother to check this over with the Anits.\")  Oh, and after traveling for an hour, I read around around _____________ every other day thinking that Saturday'll be there.  Now that we are at a profitable greenpoint they can be go some this summer.<|endoftext|>LARAPORE: Hyderabad, Feb 22: Additional Arvind Kejriwal has banned your fast, says deputy chief minister Arvind Kejriwal. Anti-corruption and HarpaAthay Yojana leader Ravinder Nair says an incident in which Kejriwal had his fast in several places has created a social vacuum for Kejriwal, who has been fasting on the Aam Aadmi Party's Anamol Jain's \"revolutionary exercise programme\" has also shaken up the political environment.First Published: Feb 20, 2017 17:45 IST<|endoftext|>President Donald Trump, speaking with NATO's ministers gathered in Paris on Wednesday (Le Monde citing assurances from Putin), called for an immediate withdrawal of American forces from the north-eastern Ukrainian region after statements by Russian commanders.\n",
      "\n",
      "Reactioners in the U.S. entertainment media celebrated this latest reversal, noting that past statements by Putin about Russia's war on terror have stated clear that Moscow has no intention of selling troops back to the Ukrainian government, to rocks ordered by the United States.\n",
      "\n",
      "And while Trump actually emphasized that the United States must quickly end its war on terror efforts, Putin, as befitted his true persona, sounded more and more hostile.\n",
      "\n",
      "On Wednesday, President Putin accused President Trump of crying wolf within a hearing followed by Trump's remarks calling for the International Criminal Court to indict Russia over the election atrocity in Donbass, something captured in Putin's words \"disrespectful\" for the victims of the past 16 months. Trump spoke highly of Putin, with Moscow's ambassador unapologetically polling seventh place on Saturday.\n",
      "\n",
      "The Russian president's comments noted that Trump has treated Putin as a pariah rather than a major power and that it would be hypocritical for anyone to disrespect his rule over the people of the foreign country.\n",
      "\n",
      "The reasons that put \"disrespectful\" in Putin's adjective is espionage, according to Russian intelligence officials and the sciences that Russia relies on to achieve its unofficial objectives.\n",
      "\n",
      "Putin's thugs lobbied for prosecutors to arrest Maxime Lap\n",
      "========================================\n",
      "Original text: The city was a vast, intricate, labyrinth of noisy, streets and alleys. You could hear the incessant honking of the vehicles even before the sun rose. Impatient businessmen who had to get to the office, mothers who had to leave their children at their schools, facing the puzzling challenge of navigating through the crowd of parents and children; even some of the teachers who had stopped at the local bakery to get a bagel or two before their morning classes. This place is located in the \n",
      "True location: city\n",
      "Full predicted text: \n",
      "The city was a vast, intricate, labyrinth of noisy, streets and alleys. You could hear the incessant honking of the vehicles even before the sun rose. Impatient businessmen who had to get to the office, mothers who had to leave their children at their schools, facing the puzzling challenge of navigating through the crowd of parents and children; even some of the teachers who had stopped at the local bakery to get a bagel or two before their morning classes. This place is located in the  vernacular Altschindel, a 12th century madness palace where secret competitions were held, loved ones were hanged, singers played a little and little giggly for word of wisdom. The symbol is Deutscher Über ich at the entrance, Uschrecht wert, uchwarten something like the fictional I Gesamten werden übersuchigen von I 9 Hequen wird ergo Steinispola der Unternehmen. Radical ideas until I vividly recall how they inspired ENSPIRY in the 20th century and to keep it alive, still believe today.\n",
      "\n",
      "\"People at the representatives conference during the EIST series felt that it was unbreathing and unlife. I had to pull everything out of my head. Restrictive Grand Churrucks are a second nature. An only some people belonged. Always home, not arrested — truly a closed ukulele. Keeping calm called my mood heavy and troubled. There were no oracles, no pamphlet club ... Has anyone told you you are shocked\n",
      "\n",
      "by Max von Gate? Retrace the Nature History example Thus to understand how extreme a form of freedom movement. The international anarchists have taught the great world that we are never one with movements, and that movements satisfy their needs without organization. There is only fourth Christian universe – Diamond Jewish and etc. Seeds of independent action are fed by constantly expanding religious organisation and spreads throughout the globe. In countries around the Muslim world to the south, there is people like Bob (See there's a Czech Ringleader.) Some of them have lasted for centuries without consent and they face persecution and violence who elect not to voice their views. People in para-communities showing support for a movement because it is such a social project don't show doubts about it. Futurism disheartens everyone except those who lead it. In the prevention society this means the ideological structure of the social revolution under negotiation. Anyone who says he wants to change the distribution of our language is talking about things he knows cannot be considered shadowed but real and for him has but important qualities. The activities of the socialist revolution against feudal capitalism and socialism for all peoples in Europe and USA. In order for daily work to be waged and communities to live and prosper, the conditions must become, and must be posted just so , to show examples of people engaging in this in a number of traditional way.\n",
      "\n",
      "\"Nowadays, Ben & Jerry's offers the best profits and the best prices to\n",
      "========================================\n"
     ]
    }
   ],
   "source": [
    "predicted_texts = []\n",
    "\n",
    "for (X_i_base, _) in base_random:\n",
    "    predicted_text = interact_model(raw_text=X_i_base)\n",
    "    predicted_texts.append(predicted_text)\n",
    "    clear_output(wait=True)\n",
    "\n",
    "for i in range(len(base_random)):\n",
    "    X_i_base, y_i_base = base_random[i]\n",
    "    predicted_text = predicted_texts[i]\n",
    "    print('Original text: {}'.format(X_i_base))\n",
    "    print('True location: {}'.format(y_i_base))\n",
    "    print('Full predicted text: \\n{} {}'.format(X_i_base, predicted_text))\n",
    "    print('=' * 40)"
   ],
   "metadata": {
    "collapsed": false,
    "pycharm": {
     "name": "#%%\n"
    }
   }
  },
  {
   "cell_type": "code",
   "execution_count": 111,
   "outputs": [
    {
     "name": "stdout",
     "output_type": "stream",
     "text": [
      "Original text: Upon this primrose sand, the hue as gentle on the eye as a vintage photograph, there is a steady warmth from the grains. Already the stars glow as if they have kept a pocket of the daytime to shine all through the night sky. Sometimes I think the earth and the moon choose to give of their borrowed warmth and light until the return of the sun, the brilliance forever promised at dawn.  This place is located in the \n",
      "True location: beach\n",
      "Full predicted text: \n",
      "Upon this primrose sand, the hue as gentle on the eye as a vintage photograph, there is a steady warmth from the grains. Already the stars glow as if they have kept a pocket of the daytime to shine all through the night sky. Sometimes I think the earth and the moon choose to give of their borrowed warmth and light until the return of the sun, the brilliance forever promised at dawn.  This place is located in the  vernal sky, which is spreading towards us as flickering orange stars moving slowly in our path.\n",
      "Every seed of the foreign spirit is containing her slave's blood. I have not slept.<|endoftext|>The first three sentences are likely to work great for anybody with scrapes. Every time you spend a hard drive in memory, it triggers run-time markers. But that's what explains Griffon Gymnastics Achievements Performance Swimming multi-season swimming data for 277 men and women over 800 in under 3 months.\n",
      "\n",
      "Reading Through Your Sky Read more\n",
      "\n",
      "Arrest In National Recount State Championships Force Steps to Reduce Earnings Gap Figures Revealed Mechanisms and Tools Your Job Stame A Trainer Sword Box Ease Down Learn More For More Perceptions OP-Victoria and the Gods Perfect Selection Dig Deep There Stained My Ratio Weightlifting Practice More Inside all thatPutting Food On Your Money Rating Sculpt Your Kingdom Your Next Evolution If you still cannot catch up to the right people … Then this will be at YOUR WEBSITE\n",
      "\n",
      "Quotables Include How The One Piece Become The Three Bucziest Dragon!\n",
      "\n",
      "7 Things Your Taking Lessons From Your 9th Bikini Title Can Work For You How Lisa And Lisa Amsterdam Showcase The Perfect Jin in Dancing Lisa And Lisa Ariana Lisa and Lisa Juanna Lisa and Lisa Carlo Photography Lisa Playwright Lisa Trump Lisa Piancoso Lisa Luighetti Lisa Fisher-Pimentel Lisa Peters Lisa Peskin Instagram Josh Conde and Huffington Post SoCal Dan Vs Bill Aitken, I Love Your Weekly That-And-Pretty 'Zolotl It Takes Screeching Impact From a Magnet Hulk Mother's World Attack (Broke, Ringed In The Gross Way) Yet Another Taking Images The Les Bachelorette Affair (1986 Hip Thrush, Where Was Your 21st Yard?!) Blue Bells The Ranch and Our Best Friends Gos: 1953, on Woman 2 1 Aboriginal Factors Woman's Science and Interpretive Arts Explains Why Women Produce When Men Drive, 4 Johnny Depp Nominated For Obey, Kneel In Bed 'Cause Sister GMA Rejects Chris Hemsworth Daughters Is A Power in Things; Maybe They Just Do Us What We Do Sometimes It's a Closer Look More WOMAN MARIJUANA AS REASON WHY IT's a Good Thing \"Caucasian Goldfish\" African Boss Clarissimo I'm Going To Continue Silencing White Women What a Happening\n",
      "\n",
      "Putting Your Love Key Into Your Data Your\n",
      "========================================\n",
      "Original text: Her eyes began to water as a wind whipped the hair across her face. When she looked down at the dizzying drop, nothing met her gaze but flat clouds, hiding the treasure of their landscape below. All this happens in the \n",
      "True location: mountain\n",
      "Full predicted text: \n",
      "Her eyes began to water as a wind whipped the hair across her face. When she looked down at the dizzying drop, nothing met her gaze but flat clouds, hiding the treasure of their landscape below. All this happens in the  !!!ABCcrazyalley 8,991 Views | Print\n",
      "\n",
      "\n",
      "Curator Anonymous 10,651 Views | Print ACF pool Theatre floor (work displayed from stairwell) Downtown Maka 2nd Floor (all play and egg jobs) Recreation Zone Plaza and buildings at surface. Theater floors at each office were assigned separate area lihe staff card. P1-50 its pink marble and box-office symbolism was blown away. Hopeful. You think I'd mash dew on a world I don't wanna visit? Phone:- Victoria Town Post 23546118027 Hold Departmentref 2 FM Main St View the other story. Submit a Letter Chelsea Alley 10th Ave Speed Freats off or something<|endoftext|>Scythe Calculator with SSE 32 GSP Added Features versus SSE 32+ WEN<|endoftext|>Simon Wyld became Ukip leader at Manchester University after predicting his party would grow into one party in four years' time\n",
      "\n",
      "On BBC1's Good Morning BritainToday on Monday night Ukip did not retain the party leadership it hyped when Colin Cowen at its conference in October accused Nigel Farage of being \"an authoritarian force\" after he proclaimed, \"I don't like people who want to head off the government.\"\n",
      "\n",
      "In his more serious criticism of the Lib Dems, which consistently dominate the West Manchester leadership races this year, it said: \"Quite frankly a good, classically educated guy who might and should be able to identify with a conservative Tory or a Liberal Republican sees Labour as the party of his day. I think we'll see Ukip. I just hope that Ukip doesn't crash the party immediately. We need again some fundamental change to fill in the race alongside me.\"\n",
      "\n",
      "Of course yesterday at the Sheffield Hallam Commons, which will cover day-to-day riding and for much of Tuesday we learned the cynicism and technical knowledge of a new generation of voters, along with its classical geographical and historical roots. As the central issue of the day, Agenda Heightening Tomorrow Critical Rising, we deliver one of its \"sucks\" news services so that most of the country has better visibility into Ukip's ambitions.\n",
      "\n",
      "Ukip leader says the party needs more diversification Read more\n",
      "\n",
      "Finally, just as the common cheeky Robert Peston, the Conservative leader from Cambridge who takes it to his/her classworld world, gave the party's professorial and unaccredited campaigning time to \"work out […] can we possibly survive through a new process\" – Peter Atkinson, founded the Anti-Empire Party in 2007\n",
      "========================================\n",
      "Original text: Her eyes began to water as a wind whipped the hair across her face. When she looked down at the dizzying drop, nothing met her gaze but flat clouds, hiding the treasure of their landscape below. All this happens in the \n",
      "True location: mountain\n",
      "Full predicted text: \n",
      "Her eyes began to water as a wind whipped the hair across her face. When she looked down at the dizzying drop, nothing met her gaze but flat clouds, hiding the treasure of their landscape below. All this happens in the  izani skyscraper to the east, right in front of the izani district school, so one can live almost anywhere in  Monaco (in fact, this is where the izani they represent is part of the graspereta noirs called some, aren't they?), even Paris (in fact, the most one could imagine as the Basque districts tend to be filled with them. This is why it is only a step away from the izani school district school in  November , from the city of de la Roi (when I speak of this district it seems that this is cai Domaine by the way. 1999!! Matrix at Trieste ' Glad to have had my phone back from the advanced assembly of the freight freaks, from Freedom.net!!! ) The  experiences of my own cityspeculating on this place is instructive, and is very helpful. But I want to mention something more, but I personally don't think that the Abobe will mean anything. And due to no connection between the city and the Abobe, I can only say that Refuelibre is an excellent place to spend your Monday, leaving it public. The women and children looking at the production is brilliant at shopping, and the quality and pace is gloriously broad and elegant. So enough already, but not enough to contain me. But on my way down this passage, I give you some space so that you can find me. Once I got there, I would like to go cut into the city to inspect our homemade luxury hotel. My family joined us early, so there were 2 Secret Secret Miagets at the back of the hotel  and a brand new 'Moreis' in the background. It was the one on the rooftop of the penthouse that our Trypanza Gi-gnica would rest upon. That little 2 HOF lunch place was hard to miss . In the pictures (the brief notice they gave Der Haarbar ) the owner Gates had his portfolio and the watch of his daughters, but this revealed hesis card and his paperwork something we already knew : No official marriage certificate Photos by Jamie Gillespie These are just the pictures of our VIP room. The local commerce after hours is scary. Contrary to what I would want in people's lives  and just what I read on. On statements about the neighborhood is much more like at a bar for the wealthy and famous. I like people who are for decades part of a newsstand when they have a big party, never realizing\n",
      "========================================\n"
     ]
    }
   ],
   "source": [
    "predicted_texts = []\n",
    "\n",
    "for (X_i_no, _) in base_random:\n",
    "    predicted_text = interact_model(raw_text=X_i_no)\n",
    "    predicted_texts.append(predicted_text)\n",
    "    clear_output(wait=True)\n",
    "\n",
    "for i in range(len(no_random)):\n",
    "    X_i_no, y_i_no = no_random[i]\n",
    "    predicted_text = predicted_texts[i]\n",
    "    print('Original text: {}'.format(X_i_no))\n",
    "    print('True location: {}'.format(y_i_no))\n",
    "    print('Full predicted text: \\n{} {}'.format(X_i_no, predicted_text))\n",
    "    print('=' * 40)"
   ],
   "metadata": {
    "collapsed": false,
    "pycharm": {
     "name": "#%%\n"
    }
   }
  }
 ],
 "metadata": {
  "kernelspec": {
   "name": "python3",
   "language": "python",
   "display_name": "Python 3"
  },
  "language_info": {
   "codemirror_mode": {
    "name": "ipython",
    "version": 2
   },
   "file_extension": ".py",
   "mimetype": "text/x-python",
   "name": "python",
   "nbconvert_exporter": "python",
   "pygments_lexer": "ipython2",
   "version": "2.7.6"
  }
 },
 "nbformat": 4,
 "nbformat_minor": 0
}